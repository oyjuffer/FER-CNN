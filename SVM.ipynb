{
 "cells": [
  {
   "attachments": {},
   "cell_type": "markdown",
   "metadata": {},
   "source": [
    "# Machine Learning\n",
    "Yorick Juffer - s1993623 \\\n",
    "Leon Koole - s4436563 \\\n",
    "... \\\n",
    "Alejandro Sánchez Roncero - s5279402"
   ]
  },
  {
   "attachments": {},
   "cell_type": "markdown",
   "metadata": {},
   "source": [
    "## Libraries"
   ]
  },
  {
   "cell_type": "code",
   "execution_count": 85,
   "metadata": {},
   "outputs": [],
   "source": [
    "\n",
    "import numpy as np\n",
    "import pandas as pd\n",
    "import tensorflow as tf\n",
    "import matplotlib.pyplot as plt\n",
    "\n",
    "from sklearn.model_selection import train_test_split\n",
    "\n",
    "from sklearn.metrics import confusion_matrix \n",
    "\n",
    "# new contribution\n",
    "from sklearn import svm\n",
    "from sklearn.model_selection import GridSearchCV\n",
    "\n",
    "from sklearn.decomposition import PCA"
   ]
  },
  {
   "attachments": {},
   "cell_type": "markdown",
   "metadata": {},
   "source": [
    "# Loading data\n",
    "This dataset contains 2000 grayscale images of handwritten digits, 200 from each class. The images are 15 × 16 \n",
    "sized, making for n = 240 dimensional image vectors. The data are in the attached text file mfeat-pix.txt, \n",
    "one vector per row, sorted such that the first 200 rows are \"0\" digit examples, the next 200 are \"1\" digit examples \n",
    "etc. The grayscale encoding in mfeat-pix.txt is done by integer steps from 0 (white) to 6 (black). "
   ]
  },
  {
   "cell_type": "code",
   "execution_count": 5,
   "metadata": {},
   "outputs": [
    {
     "name": "stdout",
     "output_type": "stream",
     "text": [
      "features: (2000, 240), labels: (2000,)\n"
     ]
    }
   ],
   "source": [
    "# Load lines from mfeat-pix.txt\n",
    "features = open('mfeat-pix.txt').readlines()\n",
    "\n",
    "# Create labels for each line, 0-9 for each 200 lines\n",
    "labels = []\n",
    "for i in range(10):\n",
    "  for j in range(200):\n",
    "    labels.append(i)\n",
    "labels = np.array(labels)\n",
    "\n",
    "# Convert each line to a numpy array\n",
    "for i in range(len(features)):\n",
    "  features[i] = np.array(features[i].split()).astype('float').reshape(16*15)\n",
    "  # Normalize\n",
    "  features[i] = features[i] / 6\n",
    "features = np.array(features)\n",
    "\n",
    "print('features: {}, labels: {}'.format(features.shape, labels.shape))"
   ]
  },
  {
   "cell_type": "code",
   "execution_count": 38,
   "metadata": {},
   "outputs": [
    {
     "name": "stdout",
     "output_type": "stream",
     "text": [
      "feat_augmented: (6600, 240), labels: (6600,)\n"
     ]
    }
   ],
   "source": [
    "# Load augmented data\n",
    "features_augmented = np.load('X_train_augmented.npy')\n",
    "features_augmented = np.array([ff.reshape(240) for ff in features_augmented])\n",
    "labels_augmented = np.array(np.load('y_train_augmented.npy'))\n",
    "\n",
    "print('feat_augmented: {}, labels: {}'.format(features_augmented.shape, labels_augmented.shape))"
   ]
  },
  {
   "attachments": {},
   "cell_type": "markdown",
   "metadata": {},
   "source": [
    "## Split"
   ]
  },
  {
   "cell_type": "code",
   "execution_count": 58,
   "metadata": {},
   "outputs": [
    {
     "name": "stdout",
     "output_type": "stream",
     "text": [
      "y_train, y_test: (1000,), (1000,)\n",
      "y_train:  (array([0, 1, 2, 3, 4, 5, 6, 7, 8, 9]), array([100, 100, 100, 100, 100, 100, 100, 100, 100, 100], dtype=int64))\n",
      "y_train_aug:  (array([0, 1, 2, 3, 4, 5, 6, 7, 8, 9], dtype=int64), array([333, 372, 311, 335, 343, 365, 326, 334, 269, 312], dtype=int64))\n",
      "labels_augmented:  (array([0, 1, 2, 3, 4, 5, 6, 7, 8, 9], dtype=int64), array([667, 743, 621, 671, 685, 731, 653, 668, 537, 624], dtype=int64))\n"
     ]
    }
   ],
   "source": [
    "split_train_test = 0.5\n",
    "\n",
    "X_train, X_test, y_train, y_test = train_test_split(features, labels, test_size=split_train_test, random_state=40, stratify=labels)\n",
    "y_train.reshape(y_train.shape[0]); y_test.reshape(y_test.shape[0])\n",
    "\n",
    "X_train_aug, X_test_aug, y_train_aug, y_test_aug = train_test_split(features_augmented, labels_augmented, test_size=split_train_test, \n",
    "                                                                    random_state=40, stratify=labels_augmented)\n",
    "y_train_aug.reshape(y_train_aug.shape[0]); y_test_aug.reshape(y_test_aug.shape[0])\n",
    "\n",
    "print('y_train, y_test: {}, {}'.format(y_train.shape, y_test.shape))\n",
    "print('y_train: ', np.unique(y_train, return_counts=True))\n",
    "print('y_train_aug: ', np.unique(y_train_aug, return_counts=True))\n",
    "print('labels_augmented: ', np.unique(labels_augmented, return_counts=True))\n",
    "\n",
    "pca = PCA(n_components = 0.99)\n",
    "pca.fit(X_train)\n",
    "X_train_reduced = pca.transform(X_train)\n",
    "X_test_reduced = pca.transform(X_test)\n",
    "\n",
    "pca_aug = PCA(n_components = 0.99)\n",
    "pca_aug.fit(X_train_aug)\n",
    "X_train_aug_reduced = pca.transform(X_train_aug)\n",
    "X_test_augg_reduced = pca.transform(X_test_aug)"
   ]
  },
  {
   "attachments": {},
   "cell_type": "markdown",
   "metadata": {},
   "source": [
    "# SVM Model\n",
    "Training of SVC and NuSVC.\n",
    "- Both use one-vs-one approach\n",
    "- C: by default 1 is fine. Less C means more regularization (more smooth surface), only useful for noisy observations\n",
    "- Data has been scaled since they're not scale invariant\n",
    "- kernel options: polynomial, rbf, sigmoid"
   ]
  },
  {
   "cell_type": "code",
   "execution_count": 92,
   "metadata": {},
   "outputs": [
    {
     "name": "stdout",
     "output_type": "stream",
     "text": [
      "Fitting 5 folds for each of 510 candidates, totalling 2550 fits\n",
      "params: {'C': 1, 'coef0': 1, 'degree': 3, 'gamma': 0.05, 'kernel': 'poly'} with mean test score: 0.9799999999999999\n"
     ]
    }
   ],
   "source": [
    "# Grid search evaluation\n",
    "# scores = [\"precision\"]\n",
    "gamma_search = [1e-3, 1e-2, 5e-2, 1e-1, 0.5e-1]\n",
    "C_search = [1e-1, 1, 5, 10, 15, 100]\n",
    "r_search = [0, 1, 10, 100]\n",
    "degree_search = [2, 3]\n",
    "\n",
    "param_grid = [\n",
    "    {\"kernel\": [\"rbf\"], \"gamma\": gamma_search, \"C\": C_search},\n",
    "    {\"kernel\": [\"poly\"], \"degree\": degree_search, \"coef0\": r_search, \"gamma\": gamma_search, \"C\": C_search},\n",
    "    {\"kernel\": [\"sigmoid\"], \"coef0\": r_search, \"gamma\": gamma_search, \"C\": C_search}\n",
    "]\n",
    "\n",
    "grid_search = GridSearchCV(\n",
    "    svm.SVC(), param_grid, \n",
    "    verbose=3,\n",
    "    return_train_score=True,\n",
    "    n_jobs=4\n",
    ")\n",
    "grid_search.fit(X_train_reduced, y_train)\n",
    "\n",
    "print(\"params: {} with mean test score: {}\".format(grid_search.best_params_, grid_search.best_score_))\n",
    "\n",
    "grid_search_df = pd.DataFrame(grid_search.cv_results_)\n",
    "grid_search_df.to_csv(\"SVM/grid_search.csv\")"
   ]
  },
  {
   "cell_type": "code",
   "execution_count": 95,
   "metadata": {},
   "outputs": [
    {
     "data": {
      "text/html": [
       "<style>#sk-container-id-11 {color: black;background-color: white;}#sk-container-id-11 pre{padding: 0;}#sk-container-id-11 div.sk-toggleable {background-color: white;}#sk-container-id-11 label.sk-toggleable__label {cursor: pointer;display: block;width: 100%;margin-bottom: 0;padding: 0.3em;box-sizing: border-box;text-align: center;}#sk-container-id-11 label.sk-toggleable__label-arrow:before {content: \"▸\";float: left;margin-right: 0.25em;color: #696969;}#sk-container-id-11 label.sk-toggleable__label-arrow:hover:before {color: black;}#sk-container-id-11 div.sk-estimator:hover label.sk-toggleable__label-arrow:before {color: black;}#sk-container-id-11 div.sk-toggleable__content {max-height: 0;max-width: 0;overflow: hidden;text-align: left;background-color: #f0f8ff;}#sk-container-id-11 div.sk-toggleable__content pre {margin: 0.2em;color: black;border-radius: 0.25em;background-color: #f0f8ff;}#sk-container-id-11 input.sk-toggleable__control:checked~div.sk-toggleable__content {max-height: 200px;max-width: 100%;overflow: auto;}#sk-container-id-11 input.sk-toggleable__control:checked~label.sk-toggleable__label-arrow:before {content: \"▾\";}#sk-container-id-11 div.sk-estimator input.sk-toggleable__control:checked~label.sk-toggleable__label {background-color: #d4ebff;}#sk-container-id-11 div.sk-label input.sk-toggleable__control:checked~label.sk-toggleable__label {background-color: #d4ebff;}#sk-container-id-11 input.sk-hidden--visually {border: 0;clip: rect(1px 1px 1px 1px);clip: rect(1px, 1px, 1px, 1px);height: 1px;margin: -1px;overflow: hidden;padding: 0;position: absolute;width: 1px;}#sk-container-id-11 div.sk-estimator {font-family: monospace;background-color: #f0f8ff;border: 1px dotted black;border-radius: 0.25em;box-sizing: border-box;margin-bottom: 0.5em;}#sk-container-id-11 div.sk-estimator:hover {background-color: #d4ebff;}#sk-container-id-11 div.sk-parallel-item::after {content: \"\";width: 100%;border-bottom: 1px solid gray;flex-grow: 1;}#sk-container-id-11 div.sk-label:hover label.sk-toggleable__label {background-color: #d4ebff;}#sk-container-id-11 div.sk-serial::before {content: \"\";position: absolute;border-left: 1px solid gray;box-sizing: border-box;top: 0;bottom: 0;left: 50%;z-index: 0;}#sk-container-id-11 div.sk-serial {display: flex;flex-direction: column;align-items: center;background-color: white;padding-right: 0.2em;padding-left: 0.2em;position: relative;}#sk-container-id-11 div.sk-item {position: relative;z-index: 1;}#sk-container-id-11 div.sk-parallel {display: flex;align-items: stretch;justify-content: center;background-color: white;position: relative;}#sk-container-id-11 div.sk-item::before, #sk-container-id-11 div.sk-parallel-item::before {content: \"\";position: absolute;border-left: 1px solid gray;box-sizing: border-box;top: 0;bottom: 0;left: 50%;z-index: -1;}#sk-container-id-11 div.sk-parallel-item {display: flex;flex-direction: column;z-index: 1;position: relative;background-color: white;}#sk-container-id-11 div.sk-parallel-item:first-child::after {align-self: flex-end;width: 50%;}#sk-container-id-11 div.sk-parallel-item:last-child::after {align-self: flex-start;width: 50%;}#sk-container-id-11 div.sk-parallel-item:only-child::after {width: 0;}#sk-container-id-11 div.sk-dashed-wrapped {border: 1px dashed gray;margin: 0 0.4em 0.5em 0.4em;box-sizing: border-box;padding-bottom: 0.4em;background-color: white;}#sk-container-id-11 div.sk-label label {font-family: monospace;font-weight: bold;display: inline-block;line-height: 1.2em;}#sk-container-id-11 div.sk-label-container {text-align: center;}#sk-container-id-11 div.sk-container {/* jupyter's `normalize.less` sets `[hidden] { display: none; }` but bootstrap.min.css set `[hidden] { display: none !important; }` so we also need the `!important` here to be able to override the default hidden behavior on the sphinx rendered scikit-learn.org. See: https://github.com/scikit-learn/scikit-learn/issues/21755 */display: inline-block !important;position: relative;}#sk-container-id-11 div.sk-text-repr-fallback {display: none;}</style><div id=\"sk-container-id-11\" class=\"sk-top-container\"><div class=\"sk-text-repr-fallback\"><pre>SVC(C=1, coef0=1, decision_function_shape=&#x27;ovo&#x27;, gamma=0.05, kernel=&#x27;poly&#x27;)</pre><b>In a Jupyter environment, please rerun this cell to show the HTML representation or trust the notebook. <br />On GitHub, the HTML representation is unable to render, please try loading this page with nbviewer.org.</b></div><div class=\"sk-container\" hidden><div class=\"sk-item\"><div class=\"sk-estimator sk-toggleable\"><input class=\"sk-toggleable__control sk-hidden--visually\" id=\"sk-estimator-id-19\" type=\"checkbox\" checked><label for=\"sk-estimator-id-19\" class=\"sk-toggleable__label sk-toggleable__label-arrow\">SVC</label><div class=\"sk-toggleable__content\"><pre>SVC(C=1, coef0=1, decision_function_shape=&#x27;ovo&#x27;, gamma=0.05, kernel=&#x27;poly&#x27;)</pre></div></div></div></div></div>"
      ],
      "text/plain": [
       "SVC(C=1, coef0=1, decision_function_shape='ovo', gamma=0.05, kernel='poly')"
      ]
     },
     "execution_count": 95,
     "metadata": {},
     "output_type": "execute_result"
    }
   ],
   "source": [
    "# Train the model with the best obtained results\n",
    "svc = svm.SVC(decision_function_shape='ovo', C=1, coef0=1, degree=3, gamma=0.05, kernel=\"poly\") \n",
    "svc.fit(X_train_reduced, y_train)"
   ]
  },
  {
   "attachments": {},
   "cell_type": "markdown",
   "metadata": {},
   "source": [
    "## Model evaluation -> average across several splits of the dataset"
   ]
  },
  {
   "cell_type": "code",
   "execution_count": 98,
   "metadata": {},
   "outputs": [
    {
     "name": "stdout",
     "output_type": "stream",
     "text": [
      "Mean: 0.979, Individuals: [0.982, 0.977, 0.981, 0.976, 0.981, 0.98, 0.979, 0.978]\n"
     ]
    }
   ],
   "source": [
    "random_seeds = [0, 21, 42, 100, 200, 300, 400, 1000]\n",
    "scores = []\n",
    "for rs in random_seeds:\n",
    "\n",
    "    split_train_test = 0.5\n",
    "\n",
    "    X_train, X_test, y_train, y_test = train_test_split(features, labels, test_size=split_train_test, random_state=rs, stratify=labels)\n",
    "    y_train.reshape(y_train.shape[0]); y_test.reshape(y_test.shape[0])\n",
    "\n",
    "    X_train_aug, X_test_aug, y_train_aug, y_test_aug = train_test_split(features_augmented, labels_augmented, test_size=split_train_test, \n",
    "                                                                        random_state=rs, stratify=labels_augmented)\n",
    "    y_train_aug.reshape(y_train_aug.shape[0]); y_test_aug.reshape(y_test_aug.shape[0])\n",
    "\n",
    "    pca = PCA(n_components = 0.99)\n",
    "    pca.fit(X_train)\n",
    "    X_train_reduced = pca.transform(X_train)\n",
    "    X_test_reduced = pca.transform(X_test)\n",
    "\n",
    "    pca_aug = PCA(n_components = 0.99)\n",
    "    pca_aug.fit(X_train_aug)\n",
    "    X_train_aug_reduced = pca.transform(X_train_aug)\n",
    "    X_test_augg_reduced = pca.transform(X_test_aug)\n",
    "\n",
    "    # Train the model with the best obtained results\n",
    "    svc = svm.SVC(decision_function_shape='ovo', C=1, coef0=1, degree=3, gamma=0.05, kernel=\"poly\") \n",
    "    svc.fit(X_train_reduced, y_train)\n",
    "    \n",
    "    scores.append(svc.score(X_test_reduced, y_test))\n",
    "\n",
    "print(\"Mean: {:.3f}, Individuals: {}\".format(np.mean(scores), scores))\n"
   ]
  }
 ],
 "metadata": {
  "kernelspec": {
   "display_name": "Python 3",
   "language": "python",
   "name": "python3"
  },
  "language_info": {
   "codemirror_mode": {
    "name": "ipython",
    "version": 3
   },
   "file_extension": ".py",
   "mimetype": "text/x-python",
   "name": "python",
   "nbconvert_exporter": "python",
   "pygments_lexer": "ipython3",
   "version": "3.9.13"
  },
  "orig_nbformat": 4,
  "vscode": {
   "interpreter": {
    "hash": "fbb8ab8bdcac1ab2add1a949848f5c026f8bbe60d997c6f523fcd5fccd91223f"
   }
  }
 },
 "nbformat": 4,
 "nbformat_minor": 2
}
