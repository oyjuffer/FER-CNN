{
 "cells": [
  {
   "attachments": {},
   "cell_type": "markdown",
   "metadata": {},
   "source": [
    "# Machine Learning\n",
    "Yorick Juffer - s1993623 \\\n",
    "Leon Koole - s4436563 \\\n",
    "... \\\n",
    "Alejandro Sánchez Roncero - s5279402"
   ]
  },
  {
   "attachments": {},
   "cell_type": "markdown",
   "metadata": {},
   "source": [
    "## Libraries"
   ]
  },
  {
   "cell_type": "code",
   "execution_count": 22,
   "metadata": {},
   "outputs": [],
   "source": [
    "\n",
    "import numpy as np\n",
    "import pandas as pd\n",
    "import tensorflow as tf\n",
    "import matplotlib.pyplot as plt\n",
    "\n",
    "from sklearn.model_selection import train_test_split\n",
    "\n",
    "from sklearn.metrics import confusion_matrix \n",
    "\n",
    "# new contribution\n",
    "from sklearn import svm\n",
    "from sklearn.model_selection import GridSearchCV\n",
    "\n",
    "from sklearn.decomposition import PCA"
   ]
  },
  {
   "attachments": {},
   "cell_type": "markdown",
   "metadata": {},
   "source": [
    "# Loading data\n",
    "This dataset contains 2000 grayscale images of handwritten digits, 200 from each class. The images are 15 × 16 \n",
    "sized, making for n = 240 dimensional image vectors. The data are in the attached text file mfeat-pix.txt, \n",
    "one vector per row, sorted such that the first 200 rows are \"0\" digit examples, the next 200 are \"1\" digit examples \n",
    "etc. The grayscale encoding in mfeat-pix.txt is done by integer steps from 0 (white) to 6 (black). "
   ]
  },
  {
   "cell_type": "code",
   "execution_count": 23,
   "metadata": {},
   "outputs": [
    {
     "name": "stdout",
     "output_type": "stream",
     "text": [
      "features: (2000, 240), labels: (2000,)\n"
     ]
    }
   ],
   "source": [
    "# Load lines from mfeat-pix.txt\n",
    "features = open('mfeat-pix.txt').readlines()\n",
    "\n",
    "# Create labels for each line, 0-9 for each 200 lines\n",
    "labels = []\n",
    "for i in range(10):\n",
    "  for j in range(200):\n",
    "    labels.append(i)\n",
    "labels = np.array(labels)\n",
    "\n",
    "# Convert each line to a numpy array\n",
    "for i in range(len(features)):\n",
    "  features[i] = np.array(features[i].split()).astype('float').reshape(16*15)\n",
    "  # Normalize\n",
    "  features[i] = features[i] / 6\n",
    "features = np.array(features)\n",
    "\n",
    "print('features: {}, labels: {}'.format(features.shape, labels.shape))"
   ]
  },
  {
   "cell_type": "code",
   "execution_count": 24,
   "metadata": {},
   "outputs": [],
   "source": [
    "# Load augmented data\n",
    "X_train_aug = np.load('X_train_augmented.npy')\n",
    "X_train_aug = np.array([ff.reshape(240) for ff in X_train_aug])\n",
    "\n",
    "X_test_aug = np.load('X_test_augmented.npy')\n",
    "X_test_aug = np.array([ff.reshape(240) for ff in X_test_aug])\n",
    "\n",
    "y_train_aug = np.array(np.load('y_train_augmented.npy'))\n",
    "y_test_aug = np.array(np.load('y_test_augmented.npy'))\n",
    "y_train_aug.reshape(y_train_aug.shape[0]); y_test_aug.reshape(y_test_aug.shape[0]);"
   ]
  },
  {
   "attachments": {},
   "cell_type": "markdown",
   "metadata": {},
   "source": [
    "## Split"
   ]
  },
  {
   "cell_type": "code",
   "execution_count": 26,
   "metadata": {},
   "outputs": [],
   "source": [
    "split_train_test = 0.5\n",
    "\n",
    "X_train, X_test, y_train, y_test = train_test_split(features, labels, test_size=split_train_test, random_state=40, stratify=labels)\n",
    "y_train.reshape(y_train.shape[0]); y_test.reshape(y_test.shape[0]);"
   ]
  },
  {
   "attachments": {},
   "cell_type": "markdown",
   "metadata": {},
   "source": [
    "# SVM Model\n",
    "Training of SVC and NuSVC.\n",
    "- Both use one-vs-one approach\n",
    "- C: by default 1 is fine. Less C means more regularization (more smooth surface), only useful for noisy observations\n",
    "- Data has been scaled since they're not scale invariant\n",
    "- kernel options: polynomial, rbf, sigmoid"
   ]
  },
  {
   "cell_type": "code",
   "execution_count": 28,
   "metadata": {},
   "outputs": [
    {
     "name": "stdout",
     "output_type": "stream",
     "text": [
      "Optimizing kernel: ['rbf']\n",
      "Fitting 5 folds for each of 54 candidates, totalling 270 fits\n",
      "params: {'C': 1.5, 'gamma': 0.05, 'kernel': 'rbf'} with mean test score: 0.9790000000000001\n",
      "Optimizing kernel: ['poly']\n",
      "Fitting 5 folds for each of 540 candidates, totalling 2700 fits\n",
      "params: {'C': 0.1, 'coef0': 5, 'degree': 2, 'gamma': 0.5, 'kernel': 'poly'} with mean test score: 0.9829999999999999\n",
      "Optimizing kernel: ['sigmoid']\n",
      "Fitting 5 folds for each of 270 candidates, totalling 1350 fits\n",
      "params: {'C': 2, 'coef0': 0, 'gamma': 0.01, 'kernel': 'sigmoid'} with mean test score: 0.969\n"
     ]
    }
   ],
   "source": [
    "# Grid search evaluation\n",
    "# scores = [\"precision\"]\n",
    "gamma_search = [1e-2, 2.5e-2, 5e-2, 7.5e-2, 1e-1, 5e-1]\n",
    "C_search = [1e-1, 5e-1, 1, 1.5, 2, 3, 4, 5, 10]\n",
    "r_search = [0, 0.5, 1, 5, 10]\n",
    "degree_search = [2, 3]\n",
    "\n",
    "pca = PCA(n_components = 50)\n",
    "pca.fit(X_train)\n",
    "X_train_reduced = pca.transform(X_train)\n",
    "X_test_reduced = pca.transform(X_test)\n",
    "\n",
    "pca_aug = PCA(n_components = 50)\n",
    "pca_aug.fit(X_train_aug)\n",
    "X_train_aug_reduced = pca.transform(X_train_aug)\n",
    "X_test_aug_reduced = pca.transform(X_test_aug)\n",
    "\n",
    "param_grid = [\n",
    "    {\"kernel\": [\"rbf\"], \"gamma\": gamma_search, \"C\": C_search},\n",
    "    {\"kernel\": [\"poly\"], \"degree\": degree_search, \"coef0\": r_search, \"gamma\": gamma_search, \"C\": C_search},\n",
    "    {\"kernel\": [\"sigmoid\"], \"coef0\": r_search, \"gamma\": gamma_search, \"C\": C_search}\n",
    "]\n",
    "\n",
    "for param_dict in param_grid:\n",
    "    print(\"Optimizing kernel: {}\".format(param_dict[\"kernel\"]))\n",
    "    \n",
    "    grid_search = GridSearchCV(\n",
    "        svm.SVC(), param_dict, \n",
    "        verbose=3,\n",
    "        return_train_score=True,\n",
    "        n_jobs=4\n",
    "    )\n",
    "    \n",
    "    grid_search.fit(X_train_reduced, y_train)\n",
    "    best_score_on_test = grid_search.score(X_test_reduced, y_test)\n",
    "\n",
    "    print(\"params: {} with mean test score: {}\".format(grid_search.best_params_, grid_search.best_score_))\n",
    "\n",
    "    # grid_search_df = pd.DataFrame(grid_search.cv_results_)\n",
    "    # grid_search_df.to_csv(\"SVM/grid_search.csv\")"
   ]
  },
  {
   "cell_type": "code",
   "execution_count": 30,
   "metadata": {},
   "outputs": [
    {
     "data": {
      "text/html": [
       "<style>#sk-container-id-1 {color: black;background-color: white;}#sk-container-id-1 pre{padding: 0;}#sk-container-id-1 div.sk-toggleable {background-color: white;}#sk-container-id-1 label.sk-toggleable__label {cursor: pointer;display: block;width: 100%;margin-bottom: 0;padding: 0.3em;box-sizing: border-box;text-align: center;}#sk-container-id-1 label.sk-toggleable__label-arrow:before {content: \"▸\";float: left;margin-right: 0.25em;color: #696969;}#sk-container-id-1 label.sk-toggleable__label-arrow:hover:before {color: black;}#sk-container-id-1 div.sk-estimator:hover label.sk-toggleable__label-arrow:before {color: black;}#sk-container-id-1 div.sk-toggleable__content {max-height: 0;max-width: 0;overflow: hidden;text-align: left;background-color: #f0f8ff;}#sk-container-id-1 div.sk-toggleable__content pre {margin: 0.2em;color: black;border-radius: 0.25em;background-color: #f0f8ff;}#sk-container-id-1 input.sk-toggleable__control:checked~div.sk-toggleable__content {max-height: 200px;max-width: 100%;overflow: auto;}#sk-container-id-1 input.sk-toggleable__control:checked~label.sk-toggleable__label-arrow:before {content: \"▾\";}#sk-container-id-1 div.sk-estimator input.sk-toggleable__control:checked~label.sk-toggleable__label {background-color: #d4ebff;}#sk-container-id-1 div.sk-label input.sk-toggleable__control:checked~label.sk-toggleable__label {background-color: #d4ebff;}#sk-container-id-1 input.sk-hidden--visually {border: 0;clip: rect(1px 1px 1px 1px);clip: rect(1px, 1px, 1px, 1px);height: 1px;margin: -1px;overflow: hidden;padding: 0;position: absolute;width: 1px;}#sk-container-id-1 div.sk-estimator {font-family: monospace;background-color: #f0f8ff;border: 1px dotted black;border-radius: 0.25em;box-sizing: border-box;margin-bottom: 0.5em;}#sk-container-id-1 div.sk-estimator:hover {background-color: #d4ebff;}#sk-container-id-1 div.sk-parallel-item::after {content: \"\";width: 100%;border-bottom: 1px solid gray;flex-grow: 1;}#sk-container-id-1 div.sk-label:hover label.sk-toggleable__label {background-color: #d4ebff;}#sk-container-id-1 div.sk-serial::before {content: \"\";position: absolute;border-left: 1px solid gray;box-sizing: border-box;top: 0;bottom: 0;left: 50%;z-index: 0;}#sk-container-id-1 div.sk-serial {display: flex;flex-direction: column;align-items: center;background-color: white;padding-right: 0.2em;padding-left: 0.2em;position: relative;}#sk-container-id-1 div.sk-item {position: relative;z-index: 1;}#sk-container-id-1 div.sk-parallel {display: flex;align-items: stretch;justify-content: center;background-color: white;position: relative;}#sk-container-id-1 div.sk-item::before, #sk-container-id-1 div.sk-parallel-item::before {content: \"\";position: absolute;border-left: 1px solid gray;box-sizing: border-box;top: 0;bottom: 0;left: 50%;z-index: -1;}#sk-container-id-1 div.sk-parallel-item {display: flex;flex-direction: column;z-index: 1;position: relative;background-color: white;}#sk-container-id-1 div.sk-parallel-item:first-child::after {align-self: flex-end;width: 50%;}#sk-container-id-1 div.sk-parallel-item:last-child::after {align-self: flex-start;width: 50%;}#sk-container-id-1 div.sk-parallel-item:only-child::after {width: 0;}#sk-container-id-1 div.sk-dashed-wrapped {border: 1px dashed gray;margin: 0 0.4em 0.5em 0.4em;box-sizing: border-box;padding-bottom: 0.4em;background-color: white;}#sk-container-id-1 div.sk-label label {font-family: monospace;font-weight: bold;display: inline-block;line-height: 1.2em;}#sk-container-id-1 div.sk-label-container {text-align: center;}#sk-container-id-1 div.sk-container {/* jupyter's `normalize.less` sets `[hidden] { display: none; }` but bootstrap.min.css set `[hidden] { display: none !important; }` so we also need the `!important` here to be able to override the default hidden behavior on the sphinx rendered scikit-learn.org. See: https://github.com/scikit-learn/scikit-learn/issues/21755 */display: inline-block !important;position: relative;}#sk-container-id-1 div.sk-text-repr-fallback {display: none;}</style><div id=\"sk-container-id-1\" class=\"sk-top-container\"><div class=\"sk-text-repr-fallback\"><pre>SVC(C=0.1, coef0=5, decision_function_shape=&#x27;ovo&#x27;, degree=2, gamma=0.5,\n",
       "    kernel=&#x27;poly&#x27;)</pre><b>In a Jupyter environment, please rerun this cell to show the HTML representation or trust the notebook. <br />On GitHub, the HTML representation is unable to render, please try loading this page with nbviewer.org.</b></div><div class=\"sk-container\" hidden><div class=\"sk-item\"><div class=\"sk-estimator sk-toggleable\"><input class=\"sk-toggleable__control sk-hidden--visually\" id=\"sk-estimator-id-1\" type=\"checkbox\" checked><label for=\"sk-estimator-id-1\" class=\"sk-toggleable__label sk-toggleable__label-arrow\">SVC</label><div class=\"sk-toggleable__content\"><pre>SVC(C=0.1, coef0=5, decision_function_shape=&#x27;ovo&#x27;, degree=2, gamma=0.5,\n",
       "    kernel=&#x27;poly&#x27;)</pre></div></div></div></div></div>"
      ],
      "text/plain": [
       "SVC(C=0.1, coef0=5, decision_function_shape='ovo', degree=2, gamma=0.5,\n",
       "    kernel='poly')"
      ]
     },
     "execution_count": 30,
     "metadata": {},
     "output_type": "execute_result"
    }
   ],
   "source": [
    "# Training of the rbf-based kernel\n",
    "svc_rbf = svm.SVC(decision_function_shape='ovo', C=1.5, gamma=0.05, kernel=\"rbf\") \n",
    "svc_rbf.fit(X_train_reduced, y_train)\n",
    "\n",
    "svc_rbf_aug = svm.SVC(decision_function_shape='ovo', C=1.5, gamma=0.05, kernel=\"rbf\") \n",
    "svc_rbf_aug.fit(X_train_aug_reduced, y_train_aug)\n",
    "\n",
    "# Training of the polynomial-based kernel\n",
    "svc_poly = svm.SVC(decision_function_shape='ovo', C=0.1, coef0=5, degree=2, gamma=0.5, kernel=\"poly\") \n",
    "svc_poly.fit(X_train_reduced, y_train)\n",
    "\n",
    "svc_poly_aug = svm.SVC(decision_function_shape='ovo', C=0.1, coef0=5, degree=2, gamma=0.5, kernel=\"poly\") \n",
    "svc_poly_aug.fit(X_train_aug_reduced, y_train_aug)"
   ]
  },
  {
   "attachments": {},
   "cell_type": "markdown",
   "metadata": {},
   "source": [
    "## Model evaluation -> average across several splits of the dataset"
   ]
  },
  {
   "cell_type": "code",
   "execution_count": 32,
   "metadata": {},
   "outputs": [
    {
     "name": "stdout",
     "output_type": "stream",
     "text": [
      "RBF: 0.980, POLY: 0.9785\n"
     ]
    }
   ],
   "source": [
    "random_seeds = [0, 21, 42, 100, 200, 300, 400, 500, 700, 1000]\n",
    "scores_rbf = []; scores_poly = []\n",
    "for rs in random_seeds:\n",
    "\n",
    "    split_train_test = 0.2\n",
    "\n",
    "    X_train, X_test, y_train, y_test = train_test_split(features, labels, test_size=split_train_test, random_state=rs, stratify=labels)\n",
    "    y_train.reshape(y_train.shape[0]); y_test.reshape(y_test.shape[0])\n",
    "\n",
    "    pca = PCA(n_components = 50)\n",
    "    pca.fit(X_train)\n",
    "    X_train_reduced = pca.transform(X_train)\n",
    "    X_test_reduced = pca.transform(X_test)\n",
    "    \n",
    "    svc_rbf = svm.SVC(decision_function_shape='ovo', C=1.5, gamma=0.05, kernel=\"rbf\") \n",
    "    svc_rbf.fit(X_train_reduced, y_train)\n",
    "\n",
    "    svc_poly = svm.SVC(decision_function_shape='ovo', C=0.1, coef0=5, degree=2, gamma=0.5, kernel=\"poly\") \n",
    "    svc_poly.fit(X_train_reduced, y_train)\n",
    "    \n",
    "    scores_rbf.append(svc_rbf.score(X_test_reduced, y_test))\n",
    "    scores_poly.append(svc_poly.score(X_test_reduced, y_test))\n",
    "\n",
    "print(\"RBF: {:.3f}, POLY: {}\".format(np.mean(scores_rbf), np.mean(scores_poly)))\n"
   ]
  },
  {
   "cell_type": "code",
   "execution_count": 34,
   "metadata": {},
   "outputs": [
    {
     "name": "stdout",
     "output_type": "stream",
     "text": [
      "RBF: 0.985, POLY: 0.9925\n"
     ]
    }
   ],
   "source": [
    "random_seeds = [0, 21, 42, 100, 200, 300, 400, 500, 700, 1000]\n",
    "scores_rbf = []; scores_poly = []\n",
    "\n",
    "pca_aug = PCA(n_components = 50)\n",
    "pca_aug.fit(X_train_aug)\n",
    "X_train_aug_reduced = pca.transform(X_train_aug)\n",
    "X_test_aug_reduced = pca.transform(X_test_aug)\n",
    "\n",
    "for rs in random_seeds:\n",
    "    \n",
    "    svc_rbf = svm.SVC(decision_function_shape='ovo', C=1.5, gamma=0.05, kernel=\"rbf\") \n",
    "    svc_rbf.fit(X_train_aug_reduced, y_train_aug)\n",
    "\n",
    "    svc_poly = svm.SVC(decision_function_shape='ovo', C=0.1, coef0=5, degree=2, gamma=0.5, kernel=\"poly\") \n",
    "    svc_poly.fit(X_train_aug_reduced, y_train_aug)\n",
    "    \n",
    "    scores_rbf.append(svc_rbf.score(X_test_aug_reduced, y_test_aug))\n",
    "    scores_poly.append(svc_poly.score(X_test_aug_reduced, y_test_aug))\n",
    "\n",
    "print(\"RBF: {:.3f}, POLY: {}\".format(np.mean(scores_rbf), np.mean(scores_poly)))"
   ]
  }
 ],
 "metadata": {
  "kernelspec": {
   "display_name": "Python 3",
   "language": "python",
   "name": "python3"
  },
  "language_info": {
   "codemirror_mode": {
    "name": "ipython",
    "version": 3
   },
   "file_extension": ".py",
   "mimetype": "text/x-python",
   "name": "python",
   "nbconvert_exporter": "python",
   "pygments_lexer": "ipython3",
   "version": "3.9.13"
  },
  "orig_nbformat": 4,
  "vscode": {
   "interpreter": {
    "hash": "fbb8ab8bdcac1ab2add1a949848f5c026f8bbe60d997c6f523fcd5fccd91223f"
   }
  }
 },
 "nbformat": 4,
 "nbformat_minor": 2
}
