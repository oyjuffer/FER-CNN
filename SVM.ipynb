{
 "cells": [
  {
   "attachments": {},
   "cell_type": "markdown",
   "metadata": {},
   "source": [
    "# Machine Learning\n",
    "Yorick Juffer - s1993623 \\\n",
    "Leon Koole - s4436563 \\\n",
    "... \\\n",
    "Alejandro Sánchez Roncero - s5279402"
   ]
  },
  {
   "attachments": {},
   "cell_type": "markdown",
   "metadata": {},
   "source": [
    "## Libraries"
   ]
  },
  {
   "cell_type": "code",
   "execution_count": 22,
   "metadata": {},
   "outputs": [],
   "source": [
    "\n",
    "import numpy as np\n",
    "import pandas as pd\n",
    "import tensorflow as tf\n",
    "import matplotlib.pyplot as plt\n",
    "\n",
    "from sklearn.model_selection import train_test_split\n",
    "\n",
    "from sklearn.metrics import classification_report\n",
    "from sklearn.metrics import confusion_matrix \n",
    "\n",
    "# new contribution\n",
    "from sklearn import svm\n",
    "from sklearn.model_selection import GridSearchCV\n",
    "\n",
    "from sklearn.decomposition import PCA\n",
    "\n",
    "import seaborn as sns; sns.set()"
   ]
  },
  {
   "attachments": {},
   "cell_type": "markdown",
   "metadata": {},
   "source": [
    "# Loading data\n",
    "This dataset contains 2000 grayscale images of handwritten digits, 200 from each class. The images are 15 × 16 \n",
    "sized, making for n = 240 dimensional image vectors. The data are in the attached text file mfeat-pix.txt, \n",
    "one vector per row, sorted such that the first 200 rows are \"0\" digit examples, the next 200 are \"1\" digit examples \n",
    "etc. The grayscale encoding in mfeat-pix.txt is done by integer steps from 0 (white) to 6 (black). "
   ]
  },
  {
   "cell_type": "code",
   "execution_count": 2,
   "metadata": {},
   "outputs": [
    {
     "name": "stdout",
     "output_type": "stream",
     "text": [
      "features: (2000, 240), labels: (2000,)\n"
     ]
    }
   ],
   "source": [
    "# Load lines from mfeat-pix.txt\n",
    "features = open('mfeat-pix.txt').readlines()\n",
    "\n",
    "# Create labels for each line, 0-9 for each 200 lines\n",
    "labels = []\n",
    "for i in range(10):\n",
    "  for j in range(200):\n",
    "    labels.append(i)\n",
    "labels = np.array(labels)\n",
    "\n",
    "# Convert each line to a numpy array\n",
    "for i in range(len(features)):\n",
    "  features[i] = np.array(features[i].split()).astype('float').reshape(16*15)\n",
    "  # Normalize\n",
    "  features[i] = features[i] / 6\n",
    "features = np.array(features)\n",
    "\n",
    "print('features: {}, labels: {}'.format(features.shape, labels.shape))"
   ]
  },
  {
   "cell_type": "code",
   "execution_count": 3,
   "metadata": {},
   "outputs": [],
   "source": [
    "# Load augmented data\n",
    "X_train_aug = np.load('X_train_augmented.npy')\n",
    "X_train_aug = np.array([ff.reshape(240) for ff in X_train_aug])\n",
    "\n",
    "X_test_aug = np.load('X_test_augmented.npy')\n",
    "X_test_aug = np.array([ff.reshape(240) for ff in X_test_aug])\n",
    "\n",
    "y_train_aug = np.array(np.load('y_train_augmented.npy'))\n",
    "y_test_aug = np.array(np.load('y_test_augmented.npy'))\n",
    "y_train_aug.reshape(y_train_aug.shape[0]); y_test_aug.reshape(y_test_aug.shape[0]);"
   ]
  },
  {
   "attachments": {},
   "cell_type": "markdown",
   "metadata": {},
   "source": [
    "## Split"
   ]
  },
  {
   "cell_type": "code",
   "execution_count": 4,
   "metadata": {},
   "outputs": [],
   "source": [
    "split_train_test = 0.8\n",
    "\n",
    "X_train, X_test, y_train, y_test = train_test_split(features, labels, test_size=split_train_test, random_state=40, stratify=labels)\n",
    "y_train.reshape(y_train.shape[0]); y_test.reshape(y_test.shape[0]);"
   ]
  },
  {
   "cell_type": "code",
   "execution_count": 25,
   "metadata": {},
   "outputs": [
    {
     "data": {
      "text/plain": [
       "[8, 9, 5]"
      ]
     },
     "execution_count": 25,
     "metadata": {},
     "output_type": "execute_result"
    }
   ],
   "source": [
    "[len(gamma_search), len(C_search), len(r_search)]"
   ]
  },
  {
   "attachments": {},
   "cell_type": "markdown",
   "metadata": {},
   "source": [
    "# SVM Model\n",
    "Training of SVC and NuSVC.\n",
    "- Both use one-vs-one approach\n",
    "- C: by default 1 is fine. Less C means more regularization (more smooth surface), only useful for noisy observations\n",
    "- Data has been scaled since they're not scale invariant\n",
    "- kernel options: polynomial, rbf, sigmoid"
   ]
  },
  {
   "cell_type": "code",
   "execution_count": 26,
   "metadata": {},
   "outputs": [
    {
     "name": "stdout",
     "output_type": "stream",
     "text": [
      "Optimizing kernel: ['rbf']\n",
      "Fitting 5 folds for each of 72 candidates, totalling 360 fits\n",
      "params: {'C': 2, 'gamma': 0.05, 'kernel': 'rbf'} with mean test score: 0.983125\n",
      "Optimizing kernel: ['poly']\n",
      "Fitting 5 folds for each of 720 candidates, totalling 3600 fits\n",
      "params: {'C': 0.1, 'coef0': 0.5, 'degree': 2, 'gamma': 0.5, 'kernel': 'poly'} with mean test score: 0.9862500000000001\n",
      "Optimizing kernel: ['sigmoid']\n",
      "Fitting 5 folds for each of 360 candidates, totalling 1800 fits\n",
      "params: {'C': 10, 'coef0': 0, 'gamma': 0.01, 'kernel': 'sigmoid'} with mean test score: 0.971875\n"
     ]
    }
   ],
   "source": [
    "# Grid search evaluation\n",
    "# scores = [\"precision\"]\n",
    "gamma_search = [1e-2, 2.5e-2, 5e-2, 7.5e-2, 1e-1, 5e-1, 'scale', 'auto']\n",
    "C_search = [1e-1, 5e-1, 1, 1.5, 2, 3, 4, 5, 10]\n",
    "r_search = [0, 0.5, 1, 5, 10]\n",
    "degree_search = [2, 3]\n",
    "\n",
    "pca = PCA(n_components = 50)\n",
    "pca.fit(X_train)\n",
    "X_train_reduced = pca.transform(X_train)\n",
    "X_test_reduced = pca.transform(X_test)\n",
    "\n",
    "param_grid = [\n",
    "    {\"kernel\": [\"rbf\"], \"gamma\": gamma_search, \"C\": C_search},\n",
    "    {\"kernel\": [\"poly\"], \"degree\": degree_search, \"coef0\": r_search, \"gamma\": gamma_search, \"C\": C_search},\n",
    "    {\"kernel\": [\"sigmoid\"], \"coef0\": r_search, \"gamma\": gamma_search, \"C\": C_search}\n",
    "]\n",
    "\n",
    "for param_dict in param_grid:\n",
    "    print(\"Optimizing kernel: {}\".format(param_dict[\"kernel\"]))\n",
    "    \n",
    "    grid_search = GridSearchCV(\n",
    "        svm.SVC(), \n",
    "        param_dict, \n",
    "        verbose=3,\n",
    "        return_train_score=True,\n",
    "        n_jobs=4\n",
    "    )\n",
    "    \n",
    "    grid_search.fit(X_train_reduced, y_train)\n",
    "    best_score_on_test = grid_search.score(X_test_reduced, y_test)\n",
    "\n",
    "    print(\"params: {} with mean test score: {}\".format(grid_search.best_params_, grid_search.best_score_))\n",
    "\n",
    "    grid_search_df = pd.DataFrame(grid_search.cv_results_)\n",
    "    grid_search_df.to_csv(\"SVM/grid_search_{}.csv\".format(param_dict[\"kernel\"][0]))"
   ]
  },
  {
   "cell_type": "code",
   "execution_count": 37,
   "metadata": {},
   "outputs": [
    {
     "data": {
      "text/html": [
       "<style>#sk-container-id-3 {color: black;background-color: white;}#sk-container-id-3 pre{padding: 0;}#sk-container-id-3 div.sk-toggleable {background-color: white;}#sk-container-id-3 label.sk-toggleable__label {cursor: pointer;display: block;width: 100%;margin-bottom: 0;padding: 0.3em;box-sizing: border-box;text-align: center;}#sk-container-id-3 label.sk-toggleable__label-arrow:before {content: \"▸\";float: left;margin-right: 0.25em;color: #696969;}#sk-container-id-3 label.sk-toggleable__label-arrow:hover:before {color: black;}#sk-container-id-3 div.sk-estimator:hover label.sk-toggleable__label-arrow:before {color: black;}#sk-container-id-3 div.sk-toggleable__content {max-height: 0;max-width: 0;overflow: hidden;text-align: left;background-color: #f0f8ff;}#sk-container-id-3 div.sk-toggleable__content pre {margin: 0.2em;color: black;border-radius: 0.25em;background-color: #f0f8ff;}#sk-container-id-3 input.sk-toggleable__control:checked~div.sk-toggleable__content {max-height: 200px;max-width: 100%;overflow: auto;}#sk-container-id-3 input.sk-toggleable__control:checked~label.sk-toggleable__label-arrow:before {content: \"▾\";}#sk-container-id-3 div.sk-estimator input.sk-toggleable__control:checked~label.sk-toggleable__label {background-color: #d4ebff;}#sk-container-id-3 div.sk-label input.sk-toggleable__control:checked~label.sk-toggleable__label {background-color: #d4ebff;}#sk-container-id-3 input.sk-hidden--visually {border: 0;clip: rect(1px 1px 1px 1px);clip: rect(1px, 1px, 1px, 1px);height: 1px;margin: -1px;overflow: hidden;padding: 0;position: absolute;width: 1px;}#sk-container-id-3 div.sk-estimator {font-family: monospace;background-color: #f0f8ff;border: 1px dotted black;border-radius: 0.25em;box-sizing: border-box;margin-bottom: 0.5em;}#sk-container-id-3 div.sk-estimator:hover {background-color: #d4ebff;}#sk-container-id-3 div.sk-parallel-item::after {content: \"\";width: 100%;border-bottom: 1px solid gray;flex-grow: 1;}#sk-container-id-3 div.sk-label:hover label.sk-toggleable__label {background-color: #d4ebff;}#sk-container-id-3 div.sk-serial::before {content: \"\";position: absolute;border-left: 1px solid gray;box-sizing: border-box;top: 0;bottom: 0;left: 50%;z-index: 0;}#sk-container-id-3 div.sk-serial {display: flex;flex-direction: column;align-items: center;background-color: white;padding-right: 0.2em;padding-left: 0.2em;position: relative;}#sk-container-id-3 div.sk-item {position: relative;z-index: 1;}#sk-container-id-3 div.sk-parallel {display: flex;align-items: stretch;justify-content: center;background-color: white;position: relative;}#sk-container-id-3 div.sk-item::before, #sk-container-id-3 div.sk-parallel-item::before {content: \"\";position: absolute;border-left: 1px solid gray;box-sizing: border-box;top: 0;bottom: 0;left: 50%;z-index: -1;}#sk-container-id-3 div.sk-parallel-item {display: flex;flex-direction: column;z-index: 1;position: relative;background-color: white;}#sk-container-id-3 div.sk-parallel-item:first-child::after {align-self: flex-end;width: 50%;}#sk-container-id-3 div.sk-parallel-item:last-child::after {align-self: flex-start;width: 50%;}#sk-container-id-3 div.sk-parallel-item:only-child::after {width: 0;}#sk-container-id-3 div.sk-dashed-wrapped {border: 1px dashed gray;margin: 0 0.4em 0.5em 0.4em;box-sizing: border-box;padding-bottom: 0.4em;background-color: white;}#sk-container-id-3 div.sk-label label {font-family: monospace;font-weight: bold;display: inline-block;line-height: 1.2em;}#sk-container-id-3 div.sk-label-container {text-align: center;}#sk-container-id-3 div.sk-container {/* jupyter's `normalize.less` sets `[hidden] { display: none; }` but bootstrap.min.css set `[hidden] { display: none !important; }` so we also need the `!important` here to be able to override the default hidden behavior on the sphinx rendered scikit-learn.org. See: https://github.com/scikit-learn/scikit-learn/issues/21755 */display: inline-block !important;position: relative;}#sk-container-id-3 div.sk-text-repr-fallback {display: none;}</style><div id=\"sk-container-id-3\" class=\"sk-top-container\"><div class=\"sk-text-repr-fallback\"><pre>SVC(C=10, decision_function_shape=&#x27;ovo&#x27;, gamma=0.01, kernel=&#x27;poly&#x27;,\n",
       "    probability=True)</pre><b>In a Jupyter environment, please rerun this cell to show the HTML representation or trust the notebook. <br />On GitHub, the HTML representation is unable to render, please try loading this page with nbviewer.org.</b></div><div class=\"sk-container\" hidden><div class=\"sk-item\"><div class=\"sk-estimator sk-toggleable\"><input class=\"sk-toggleable__control sk-hidden--visually\" id=\"sk-estimator-id-3\" type=\"checkbox\" checked><label for=\"sk-estimator-id-3\" class=\"sk-toggleable__label sk-toggleable__label-arrow\">SVC</label><div class=\"sk-toggleable__content\"><pre>SVC(C=10, decision_function_shape=&#x27;ovo&#x27;, gamma=0.01, kernel=&#x27;poly&#x27;,\n",
       "    probability=True)</pre></div></div></div></div></div>"
      ],
      "text/plain": [
       "SVC(C=10, decision_function_shape='ovo', gamma=0.01, kernel='poly',\n",
       "    probability=True)"
      ]
     },
     "execution_count": 37,
     "metadata": {},
     "output_type": "execute_result"
    }
   ],
   "source": [
    "# Training of the rbf-based kernel\n",
    "pca_aug = PCA(n_components = 50)\n",
    "pca_aug.fit(X_train_aug)\n",
    "X_train_aug_reduced = pca_aug.transform(X_train_aug)\n",
    "X_test_aug_reduced = pca_aug.transform(X_test_aug)\n",
    "    \n",
    "svc_rbf = svm.SVC(decision_function_shape='ovo', C=2, gamma=0.05, kernel=\"rbf\", probability=True) \n",
    "svc_rbf.fit(X_train_reduced, y_train)\n",
    "\n",
    "svc_rbf_aug = svm.SVC(decision_function_shape='ovo', C=2, gamma=0.05, kernel=\"rbf\", probability=True) \n",
    "svc_rbf_aug.fit(X_train_aug_reduced, y_train_aug)\n",
    "\n",
    "# Training of the polynomial-based kernel\n",
    "svc_poly = svm.SVC(decision_function_shape='ovo', C=0.1, coef0=0.5, degree=2, gamma=0.5, kernel=\"poly\", probability=True) \n",
    "svc_poly.fit(X_train_reduced, y_train)\n",
    "\n",
    "svc_poly_aug = svm.SVC(decision_function_shape='ovo', C=0.1, coef0=0.5, degree=2, gamma=0.5, kernel=\"poly\", probability=True) \n",
    "svc_poly_aug.fit(X_train_aug_reduced, y_train_aug)\n",
    "\n",
    "# Training of the polynomial-based kernel\n",
    "svc_sig = svm.SVC(decision_function_shape='ovo', C=10, coef0=0.0, gamma=0.01, kernel=\"poly\", probability=True) \n",
    "svc_sig.fit(X_train_reduced, y_train)\n",
    "\n",
    "svc_sig_aug = svm.SVC(decision_function_shape='ovo', C=10, coef0=0.0, gamma=0.01, kernel=\"poly\", probability=True) \n",
    "svc_sig_aug.fit(X_train_aug_reduced, y_train_aug)"
   ]
  },
  {
   "cell_type": "code",
   "execution_count": 43,
   "metadata": {},
   "outputs": [],
   "source": [
    "\n",
    "df_support_vectors = pd.DataFrame(np.vstack((svc_rbf.n_support_ / 160, svc_rbf_aug.n_support_ / 1000,\n",
    "                        svc_poly.n_support_ / 160, svc_poly_aug.n_support_ / 1000,\n",
    "                        svc_sig.n_support_ /160, svc_sig_aug.n_support_ / 1000)))\n",
    "df_support_vectors.to_csv(\"SVM/support_vectors.csv\")\n"
   ]
  },
  {
   "attachments": {},
   "cell_type": "markdown",
   "metadata": {},
   "source": [
    "## Model evaluation -> average across several splits of the dataset"
   ]
  },
  {
   "cell_type": "code",
   "execution_count": 69,
   "metadata": {},
   "outputs": [
    {
     "name": "stdout",
     "output_type": "stream",
     "text": [
      "RBF, RBFD, POLY, SIGGMA: 0.9795, 0.9775, 0.9773, 0.9710\n",
      "              precision    recall  f1-score   support\n",
      "\n",
      "           0     1.0000    1.0000    1.0000        40\n",
      "           1     0.9512    0.9750    0.9630        40\n",
      "           2     0.9750    0.9750    0.9750        40\n",
      "           3     1.0000    1.0000    1.0000        40\n",
      "           4     1.0000    1.0000    1.0000        40\n",
      "           5     0.9756    1.0000    0.9877        40\n",
      "           6     1.0000    1.0000    1.0000        40\n",
      "           7     1.0000    0.9750    0.9873        40\n",
      "           8     1.0000    0.9750    0.9873        40\n",
      "           9     0.9500    0.9500    0.9500        40\n",
      "\n",
      "    accuracy                         0.9850       400\n",
      "   macro avg     0.9852    0.9850    0.9850       400\n",
      "weighted avg     0.9852    0.9850    0.9850       400\n",
      "\n"
     ]
    }
   ],
   "source": [
    "random_seeds = [0, 21, 42, 100, 200, 300, 400, 500, 700, 1000]\n",
    "scores_rbf = []; scores_rbf_d = []; scores_poly = []; scores_sigma = []\n",
    "for rs in random_seeds:\n",
    "\n",
    "    split_train_test = 0.2\n",
    "\n",
    "    X_train, X_test, y_train, y_test = train_test_split(features, labels, test_size=split_train_test, random_state=rs, stratify=labels)\n",
    "    y_train.reshape(y_train.shape[0]); y_test.reshape(y_test.shape[0])\n",
    "\n",
    "    pca = PCA(n_components = 50)\n",
    "    pca.fit(X_train)\n",
    "    X_train_reduced = pca.transform(X_train)\n",
    "    X_test_reduced = pca.transform(X_test)\n",
    "    \n",
    "    svc_rbf = svm.SVC(decision_function_shape='ovo', C=2, gamma=0.05, kernel=\"rbf\", probability=True) \n",
    "    svc_rbf.fit(X_train_reduced, y_train)\n",
    "    scores_rbf.append(svc_rbf.score(X_test_reduced, y_test))\n",
    "    \n",
    "    svc_rbf_d = svm.SVC(decision_function_shape='ovo', kernel=\"rbf\", probability=True) \n",
    "    svc_rbf_d.fit(X_train_reduced, y_train)\n",
    "    scores_rbf_d.append(svc_rbf_d.score(X_test_reduced, y_test))\n",
    "    \n",
    "    svc_poly = svm.SVC(decision_function_shape='ovo', C=0.1, coef0=0.5, degree=2, gamma=0.5, kernel=\"poly\", probability=True) \n",
    "    svc_poly.fit(X_train_reduced, y_train)  \n",
    "    scores_poly.append(svc_poly.score(X_test_reduced, y_test))\n",
    "    \n",
    "    svc_sig = svm.SVC(decision_function_shape='ovo', C=10, coef0=0.0, gamma=0.01, kernel=\"poly\", probability=True) \n",
    "    svc_sig.fit(X_train_reduced, y_train)\n",
    "    scores_sigma.append(svc_sig.score(X_test_reduced, y_test))\n",
    "\n",
    "print(\"RBF, RBFD, POLY, SIGGMA: {:.4f}, {:.4f}, {:.4f}, {:.4f}\".format(np.mean(scores_rbf), np.mean(scores_rbf_d), np.mean(scores_poly), np.mean(scores_sigma)))\n",
    "\n",
    "print(classification_report(y_test, svc_rbf.predict(X_test_reduced), target_names=[\"{}\".format(ii) for ii in range(10)], digits=4))\n",
    "\n"
   ]
  },
  {
   "cell_type": "code",
   "execution_count": 68,
   "metadata": {},
   "outputs": [
    {
     "data": {
      "text/plain": [
       "0.985"
      ]
     },
     "execution_count": 68,
     "metadata": {},
     "output_type": "execute_result"
    }
   ],
   "source": [
    "svc_rbf.score(X_test_reduced, y_test, )"
   ]
  },
  {
   "cell_type": "code",
   "execution_count": 66,
   "metadata": {},
   "outputs": [
    {
     "data": {
      "image/png": "[encoded data removed]",
      "text/plain": [
       "<Figure size 640x480 with 1 Axes>"
      ]
     },
     "metadata": {},
     "output_type": "display_data"
    }
   ],
   "source": [
    "mat = confusion_matrix(y_test, svc_rbf.predict(X_test_reduced))\n",
    "digits_names = [\"{}\".format(ii) for ii in range(10)]\n",
    "sns.heatmap(mat.T, square=True, annot=True, fmt='d', cbar=False,\n",
    "            xticklabels=digits_names, yticklabels=digits_names)\n",
    "plt.xlabel('true label')\n",
    "plt.ylabel('predicted label')\n",
    "plt.savefig('SVM/confusion_matrix_svm_original.png')"
   ]
  },
  {
   "cell_type": "code",
   "execution_count": 51,
   "metadata": {},
   "outputs": [
    {
     "name": "stdout",
     "output_type": "stream",
     "text": [
      "RBF: 0.983\n",
      "              precision    recall  f1-score   support\n",
      "\n",
      "           0       1.00      1.00      1.00        40\n",
      "           1       1.00      0.97      0.99        40\n",
      "           2       1.00      1.00      1.00        40\n",
      "           3       0.91      0.97      0.94        40\n",
      "           4       0.98      1.00      0.99        40\n",
      "           5       0.95      0.93      0.94        40\n",
      "           6       1.00      0.95      0.97        40\n",
      "           7       1.00      1.00      1.00        40\n",
      "           8       1.00      1.00      1.00        40\n",
      "           9       1.00      1.00      1.00        40\n",
      "\n",
      "    accuracy                           0.98       400\n",
      "   macro avg       0.98      0.98      0.98       400\n",
      "weighted avg       0.98      0.98      0.98       400\n",
      "\n"
     ]
    }
   ],
   "source": [
    "random_seeds = [0, 21, 42, 100, 200, 300, 400, 500, 700, 1000]\n",
    "scores_rbf = []\n",
    "\n",
    "pca_aug = PCA(n_components = 50)\n",
    "pca_aug.fit(X_train_aug)\n",
    "X_train_aug_reduced = pca_aug.transform(X_train_aug)\n",
    "X_test_aug_reduced = pca_aug.transform(X_test_aug)\n",
    "\n",
    "for rs in random_seeds:\n",
    "    \n",
    "    svc_rbf_aug = svm.SVC(decision_function_shape='ovo', C=2, gamma=0.05, kernel=\"rbf\", probability=True) \n",
    "    svc_rbf_aug.fit(X_train_aug_reduced, y_train_aug)\n",
    "\n",
    "    scores_rbf.append(svc_rbf_aug.score(X_test_aug_reduced, y_test_aug))\n",
    "\n",
    "print(\"RBF: {:.3f}\".format(np.mean(scores_rbf)))\n",
    "\n",
    "\n",
    "cprint(lassification_report(y_test_aug, svc_rbf_aug.predict(X_test_aug_reduced), target_names=[\"{}\".format(ii) for ii in range(10)]))"
   ]
  },
  {
   "cell_type": "code",
   "execution_count": 53,
   "metadata": {},
   "outputs": [
    {
     "data": {
      "image/png": "[encoded data removed]",
      "text/plain": [
       "<Figure size 640x480 with 1 Axes>"
      ]
     },
     "metadata": {},
     "output_type": "display_data"
    }
   ],
   "source": [
    "mat = confusion_matrix(y_test_aug, svc_rbf_aug.predict(X_test_aug_reduced))\n",
    "digits_names = [\"{}\".format(ii) for ii in range(10)]\n",
    "sns.heatmap(mat.T, square=True, annot=True, fmt='d', cbar=False,\n",
    "            xticklabels=digits_names, yticklabels=digits_names)\n",
    "plt.xlabel('true label')\n",
    "plt.ylabel('predicted label')\n",
    "plt.savefig('SVM/confusion_matrix_svm_augmented.png')"
   ]
  },
  {
   "cell_type": "code",
   "execution_count": 17,
   "metadata": {},
   "outputs": [
    {
     "name": "stdout",
     "output_type": "stream",
     "text": [
      "Digit: 9 with prob: 0.9985855606667047 (1.1596074508702128e-05, 0.9985855606667047) - Original: 9\n",
      "Digit: 2 with prob: 0.9999171190285532 (1.0258202018095186e-08, 0.9999171190285532) - Original: 2\n",
      "Digit: 0 with prob: 0.998949335642712 (1.8239353290804458e-05, 0.998949335642712) - Original: 0\n",
      "Digit: 6 with prob: 0.9999109128168908 (8.61471237486617e-08, 0.9999109128168908) - Original: 6\n",
      "Digit: 1 with prob: 0.9990747751039938 (8.598787748839722e-08, 0.9990747751039938) - Original: 1\n",
      "Digit: 8 with prob: 0.9999654468472761 (3.639512285398628e-08, 0.9999654468472761) - Original: 8\n",
      "Digit: 4 with prob: 0.9999024583814561 (2.3693887248628582e-09, 0.9999024583814561) - Original: 4\n",
      "Digit: 0 with prob: 0.9996351255544711 (1.0453548146059121e-05, 0.9996351255544711) - Original: 0\n",
      "Digit: 2 with prob: 0.9989564564497914 (7.096139004868389e-06, 0.9989564564497914) - Original: 2\n",
      "Digit: 1 with prob: 0.9997636467417043 (3.352868506378932e-08, 0.9997636467417043) - Original: 1\n",
      "Digit: 5 with prob: 0.9971875092065815 (3.6725820852346664e-05, 0.9971875092065815) - Original: 5\n",
      "Digit: 0 with prob: 0.9438569224346414 (0.00046764313284145947, 0.9438569224346414) - Original: 0\n",
      "Digit: 2 with prob: 0.9991176909396877 (7.824896800966581e-07, 0.9991176909396877) - Original: 2\n",
      "Digit: 4 with prob: 0.9999538088841506 (2.6337161050448247e-09, 0.9999538088841506) - Original: 4\n",
      "Digit: 3 with prob: 0.7046086096237886 (0.00020065321312819567, 0.7046086096237886) - Original: 5\n",
      "Digit: 6 with prob: 0.9999778490049523 (3.30642162338063e-09, 0.9999778490049523) - Original: 6\n",
      "Digit: 5 with prob: 0.9919262958592835 (2.242741755035924e-05, 0.9919262958592835) - Original: 5\n",
      "Digit: 2 with prob: 0.9999530913916742 (1.4561704232487965e-09, 0.9999530913916742) - Original: 2\n",
      "Digit: 7 with prob: 0.9999887261905347 (1.272990971957548e-08, 0.9999887261905347) - Original: 7\n",
      "Digit: 0 with prob: 0.9993903324669288 (1.3799157951326326e-05, 0.9993903324669288) - Original: 0\n"
     ]
    }
   ],
   "source": [
    "n_cases = 20\n",
    "pred = svc_poly_aug.predict(X_test_aug_reduced[0:n_cases])\n",
    "probs = svc_poly_aug.predict_proba(X_test_aug_reduced[0:n_cases])\n",
    "labs = y_test_aug[0:n_cases]\n",
    "\n",
    "for ii in range(n_cases):\n",
    "    print(\"Digit: {} with prob: {} ({}, {}) - Original: {}\".format(pred[ii], probs[ii][pred[ii]], min(probs[ii]), max(probs[ii]), labs[ii]))"
   ]
  }
 ],
 "metadata": {
  "kernelspec": {
   "display_name": "Python 3",
   "language": "python",
   "name": "python3"
  },
  "language_info": {
   "codemirror_mode": {
    "name": "ipython",
    "version": 3
   },
   "file_extension": ".py",
   "mimetype": "text/x-python",
   "name": "python",
   "nbconvert_exporter": "python",
   "pygments_lexer": "ipython3",
   "version": "3.9.13"
  },
  "orig_nbformat": 4,
  "vscode": {
   "interpreter": {
    "hash": "fbb8ab8bdcac1ab2add1a949848f5c026f8bbe60d997c6f523fcd5fccd91223f"
   }
  }
 },
 "nbformat": 4,
 "nbformat_minor": 2
}
