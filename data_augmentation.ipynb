{
 "cells": [
  {
   "cell_type": "code",
   "execution_count": 1,
   "metadata": {},
   "outputs": [],
   "source": [
    "import numpy as np\n",
    "import tensorflow as tf\n",
    "import matplotlib.pyplot as plt\n",
    "import tensorflow.keras as keras\n",
    "from tensorflow.keras import layers, models\n",
    "from tensorflow.keras.preprocessing.image import ImageDataGenerator\n",
    "\n",
    "from sklearn.model_selection import train_test_split"
   ]
  },
  {
   "cell_type": "code",
   "execution_count": 2,
   "metadata": {},
   "outputs": [
    {
     "name": "stdout",
     "output_type": "stream",
     "text": [
      "features: (2000, 240), labels: (2000,)\n"
     ]
    }
   ],
   "source": [
    "# Load lines from mfeat-pix.txt\n",
    "features = open('mfeat-pix.txt').readlines()\n",
    "\n",
    "# Create labels for each line, 0-9 for each 200 lines\n",
    "labels = []\n",
    "for i in range(10):\n",
    "  for j in range(200):\n",
    "    labels.append(i)\n",
    "labels = np.array(labels)\n",
    "\n",
    "# Convert each line to a numpy array\n",
    "for i in range(len(features)):\n",
    "  features[i] = np.array(features[i].split()).astype('float').reshape(16*15)\n",
    "  # Normalize\n",
    "  features[i] = features[i] / 6\n",
    "features = np.array(features)\n",
    "\n",
    "print('features: {}, labels: {}'.format(features.shape, labels.shape))"
   ]
  },
  {
   "cell_type": "code",
   "execution_count": 3,
   "metadata": {},
   "outputs": [],
   "source": [
    "X_train, X_test, y_train, y_test = train_test_split(features, labels, test_size=0.2, random_state=40, stratify=labels)"
   ]
  },
  {
   "cell_type": "code",
   "execution_count": 6,
   "metadata": {},
   "outputs": [],
   "source": [
    "image_generator = ImageDataGenerator(\n",
    "    rotation_range=20,\n",
    "    zoom_range=[1, 0.9],\n",
    "    width_shift_range=0.05,\n",
    "    height_shift_range=0.05,\n",
    "    shear_range=20,\n",
    "    fill_mode=\"constant\",\n",
    "    cval=0\n",
    ")\n",
    "image_generator.fit(X_train.reshape(X_train.shape[0], 16, 15, 1))"
   ]
  },
  {
   "cell_type": "code",
   "execution_count": 9,
   "metadata": {},
   "outputs": [
    {
     "name": "stdout",
     "output_type": "stream",
     "text": [
      "(10000, 16, 15, 1)\n",
      "(10000,)\n",
      "(400, 240)\n",
      "(400,)\n"
     ]
    }
   ],
   "source": [
    "X_train_augmented = []\n",
    "y_train_augmented = []\n",
    "\n",
    "number_images_per_digit = 840\n",
    "\n",
    "counters = np.zeros(shape=(10, 1))\n",
    "\n",
    "flag_leave = False\n",
    "for X, Y in image_generator.flow(\n",
    "    features.reshape(features.shape[0], 16, 15, 1),\n",
    "    labels,\n",
    "    batch_size=1000,\n",
    "    shuffle=False,\n",
    "):\n",
    "    for i in range(100):\n",
    "        for j in range(1000):\n",
    "            img_class = int(Y[j])\n",
    "            \n",
    "            if counters[img_class] < number_images_per_digit:\n",
    "                counters[img_class] += 1\n",
    "                X_train_augmented.append(X[j].reshape(16, 15))\n",
    "                y_train_augmented.append(int(Y[j]))\n",
    "            \n",
    "            else:\n",
    "                if (counters >= number_images_per_digit).all():\n",
    "                    flag_leave = True\n",
    "                    break\n",
    "        if flag_leave:\n",
    "            break\n",
    "    if flag_leave:\n",
    "        break\n",
    "        \n",
    "X_train_augmented = np.array(X_train_augmented)\n",
    "y_train_augmented = np.array(y_train_augmented)\n",
    "\n",
    "# Add original data to augmented data\n",
    "X_train_augmented = np.concatenate((X_train_augmented.reshape(X_train_augmented.shape[0], 16, 15, 1), \n",
    "                                    X_train.reshape(X_train.shape[0], 16, 15, 1)))\n",
    "y_train_augmented = np.concatenate((y_train_augmented, y_train))\n",
    "\n",
    "print(X_train_augmented.shape)\n",
    "print(y_train_augmented.shape)\n",
    "print(X_test.shape)\n",
    "print(y_test.shape)"
   ]
  },
  {
   "cell_type": "code",
   "execution_count": 10,
   "metadata": {},
   "outputs": [
    {
     "name": "stdout",
     "output_type": "stream",
     "text": [
      "labels_augmented:  (array([0, 1, 2, 3, 4, 5, 6, 7, 8, 9]), array([1000, 1000, 1000, 1000, 1000, 1000, 1000, 1000, 1000, 1000],\n",
      "      dtype=int64))\n"
     ]
    }
   ],
   "source": [
    "print('labels_augmented: ', np.unique(y_train_augmented, return_counts=True))\n",
    "\n",
    "np.save(\"X_train_augmented.npy\", X_train_augmented)\n",
    "np.save(\"y_train_augmented.npy\", y_train_augmented)\n",
    "np.save(\"X_test_augmented.npy\", X_test)\n",
    "np.save(\"y_test_augmented.npy\", y_test)"
   ]
  }
 ],
 "metadata": {
  "kernelspec": {
   "display_name": "Python 3",
   "language": "python",
   "name": "python3"
  },
  "language_info": {
   "codemirror_mode": {
    "name": "ipython",
    "version": 3
   },
   "file_extension": ".py",
   "mimetype": "text/x-python",
   "name": "python",
   "nbconvert_exporter": "python",
   "pygments_lexer": "ipython3",
   "version": "3.9.13"
  },
  "orig_nbformat": 4,
  "vscode": {
   "interpreter": {
    "hash": "fbb8ab8bdcac1ab2add1a949848f5c026f8bbe60d997c6f523fcd5fccd91223f"
   }
  }
 },
 "nbformat": 4,
 "nbformat_minor": 2
}
