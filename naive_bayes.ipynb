{
 "cells": [
  {
   "attachments": {},
   "cell_type": "markdown",
   "metadata": {},
   "source": [
    "# Naive Bayes"
   ]
  },
  {
   "attachments": {},
   "cell_type": "markdown",
   "metadata": {},
   "source": [
    "## Libraries"
   ]
  },
  {
   "cell_type": "code",
   "execution_count": null,
   "outputs": [],
   "source": [
    "import random\n",
    "import numpy as np\n",
    "import seaborn as sns\n",
    "import matplotlib.pyplot as plt\n",
    "from sklearn.decomposition import PCA\n",
    "from sklearn.model_selection import train_test_split\n",
    "from sklearn.naive_bayes import GaussianNB\n",
    "from sklearn.metrics import accuracy_score\n",
    "from sklearn.metrics import classification_report\n",
    "from sklearn.metrics import confusion_matrix"
   ],
   "metadata": {
    "collapsed": false,
    "pycharm": {
     "name": "#%%\n"
    }
   }
  },
  {
   "cell_type": "markdown",
   "source": [
    "## PCA Optimizer"
   ],
   "metadata": {
    "collapsed": false,
    "pycharm": {
     "name": "#%% md\n"
    }
   }
  },
  {
   "cell_type": "code",
   "execution_count": null,
   "outputs": [],
   "source": [
    "def optimizer(X_train, X_test, y_train, y_test):\n",
    "    best_accuracy = 0\n",
    "\n",
    "    saved_X_train = X_train\n",
    "    saved_X_test= X_test\n",
    "\n",
    "    for i in range(99):\n",
    "        \n",
    "        i = (i+1)/100\n",
    "        print(\"Variance: {}/1\".format(i), end=\"\\r\")\n",
    "\n",
    "        pca = PCA(n_components = i)\n",
    "        X_train = pca.fit_transform(saved_X_train)\n",
    "        X_test = pca.transform(saved_X_test)\n",
    "        explained_variance = pca.explained_variance_ratio_\n",
    "\n",
    "        gnb = GaussianNB()\n",
    "        y_pred = gnb.fit(X_train, y_train).predict(X_test)\n",
    "\n",
    "        accuracy = accuracy_score(y_test, y_pred)\n",
    "\n",
    "        if(accuracy > best_accuracy):\n",
    "            best_accuracy = accuracy\n",
    "            variance = i\n",
    "\n",
    "    return variance"
   ],
   "metadata": {
    "collapsed": false,
    "pycharm": {
     "name": "#%%\n"
    }
   }
  },
  {
   "cell_type": "markdown",
   "source": [
    "## Normal Data"
   ],
   "metadata": {
    "collapsed": false,
    "pycharm": {
     "name": "#%% md\n"
    }
   }
  },
  {
   "cell_type": "markdown",
   "source": [
    "### Load Data"
   ],
   "metadata": {
    "collapsed": false,
    "pycharm": {
     "name": "#%% md\n"
    }
   }
  },
  {
   "cell_type": "code",
   "execution_count": null,
   "outputs": [],
   "source": [
    "# Load lines from mfeat-pix.txt\n",
    "features = open('mfeat-pix.txt').readlines()\n",
    "\n",
    "# Create labels for each line, 0-9 for each 200 lines\n",
    "labels = []\n",
    "for i in range(10):\n",
    "  for j in range(200):\n",
    "    labels.append(i)\n",
    "labels = np.array(labels)\n",
    "\n",
    "# Convert each line to a numpy array\n",
    "for i in range(len(features)):\n",
    "  features[i] = np.array(features[i].split()).astype('float')\n",
    "  # Normalize\n",
    "  features[i] = features[i] / 6\n",
    "features = np.array(features)"
   ],
   "metadata": {
    "collapsed": false,
    "pycharm": {
     "name": "#%%\n"
    }
   }
  },
  {
   "cell_type": "markdown",
   "source": [
    "### Split"
   ],
   "metadata": {
    "collapsed": false,
    "pycharm": {
     "name": "#%% md\n"
    }
   }
  },
  {
   "cell_type": "code",
   "execution_count": null,
   "outputs": [],
   "source": [
    "X_train, X_test, y_train, y_test = train_test_split(features, labels, test_size=0.2, random_state=40)\n",
    "X_test_saved = X_test   # for graphing later"
   ],
   "metadata": {
    "collapsed": false,
    "pycharm": {
     "name": "#%%\n"
    }
   }
  },
  {
   "cell_type": "markdown",
   "source": [
    "### PCA"
   ],
   "metadata": {
    "collapsed": false,
    "pycharm": {
     "name": "#%% md\n"
    }
   }
  },
  {
   "cell_type": "code",
   "execution_count": null,
   "outputs": [],
   "source": [
    "variance = optimizer(X_train, X_test, y_train, y_test)\n",
    "\n",
    "print(\"\\nUsed Variance: {}\".format(variance))\n",
    "\n",
    "pca = PCA(n_components = variance)\n",
    "X_train = pca.fit_transform(X_train)\n",
    "X_test = pca.transform(X_test)\n",
    "explained_variance = pca.explained_variance_ratio_"
   ],
   "metadata": {
    "collapsed": false,
    "pycharm": {
     "name": "#%%\n"
    }
   }
  },
  {
   "cell_type": "markdown",
   "source": [
    "### Naïve Bayes"
   ],
   "metadata": {
    "collapsed": false,
    "pycharm": {
     "name": "#%% md\n"
    }
   }
  },
  {
   "cell_type": "code",
   "execution_count": null,
   "outputs": [],
   "source": [
    "gnb = GaussianNB()\n",
    "y_pred = gnb.fit(X_train, y_train).predict(X_test)"
   ],
   "metadata": {
    "collapsed": false,
    "pycharm": {
     "name": "#%%\n"
    }
   }
  },
  {
   "cell_type": "markdown",
   "source": [
    "### Report"
   ],
   "metadata": {
    "collapsed": false,
    "pycharm": {
     "name": "#%% md\n"
    }
   }
  },
  {
   "cell_type": "code",
   "execution_count": null,
   "outputs": [],
   "source": [
    "print(accuracy_score(y_test, y_pred))\n",
    "print(classification_report(y_test, y_pred))\n",
    "\n",
    "cm_normal = confusion_matrix(y_test, y_pred)\n",
    "cm_normal = cm_normal.astype('float') / cm_normal.sum(axis=1)[:, np.newaxis]\n",
    "plt.figure(figsize=(10, 8), dpi=100)\n",
    "res_normal = sns.heatmap(cm_normal, annot=True, fmt='.3', cmap='GnBu')\n",
    "\n",
    "plt.ylabel('True')\n",
    "plt.xlabel('Predicted')\n",
    "plt.title('Normal Data')\n",
    "\n",
    "for _, spine in res_normal.spines.items():\n",
    "    spine.set_visible(True)\n",
    "    spine.set_linewidth(1.1)"
   ],
   "metadata": {
    "collapsed": false,
    "pycharm": {
     "name": "#%%\n"
    }
   }
  },
  {
   "cell_type": "markdown",
   "source": [
    "### Sample Misclassifications"
   ],
   "metadata": {
    "collapsed": false,
    "pycharm": {
     "name": "#%% md\n"
    }
   }
  },
  {
   "cell_type": "code",
   "execution_count": null,
   "outputs": [],
   "source": [
    "misclassified = [i for i in range(len(y_pred)) if y_pred[i] != y_test[i]]\n",
    "img = X_test_saved.reshape(400, 16, 15, 1)\n",
    "\n",
    "indices = random.sample(misclassified, 10)\n",
    "\n",
    "fig, axs = plt.subplots(2, 4, figsize=(14, 7))\n",
    "for i in range(2):\n",
    "  for j in range(4):\n",
    "    axs[i, j].imshow(img[indices[0]], cmap='GnBu', interpolation='nearest')\n",
    "    axs[i, j].set_title(\"True: {}, Pred: {}\".format(y_test[indices[0]],y_pred[indices[0]]))\n",
    "    indices.pop(0)"
   ],
   "metadata": {
    "collapsed": false,
    "pycharm": {
     "name": "#%%\n"
    }
   }
  },
  {
   "cell_type": "markdown",
   "source": [
    "## Augmented Data"
   ],
   "metadata": {
    "collapsed": false,
    "pycharm": {
     "name": "#%% md\n"
    }
   }
  },
  {
   "cell_type": "markdown",
   "source": [
    "### Load Data"
   ],
   "metadata": {
    "collapsed": false,
    "pycharm": {
     "name": "#%% md\n"
    }
   }
  },
  {
   "cell_type": "code",
   "execution_count": null,
   "outputs": [],
   "source": [
    "X_train =  np.load(\"X_train_augmented.npy\")\n",
    "X_test = np.load(\"X_test_augmented.npy\")\n",
    "y_train = np.load(\"y_train_augmented.npy\")\n",
    "y_test = np.load(\"y_test_augmented.npy\")\n",
    "\n",
    "X_train = X_train.reshape((X_train.shape[0], 240))\n",
    "X_test_saved = X_test # for graphing later"
   ],
   "metadata": {
    "collapsed": false,
    "pycharm": {
     "name": "#%%\n"
    }
   }
  },
  {
   "cell_type": "markdown",
   "source": [
    "### PCA"
   ],
   "metadata": {
    "collapsed": false,
    "pycharm": {
     "name": "#%% md\n"
    }
   }
  },
  {
   "cell_type": "code",
   "execution_count": null,
   "outputs": [],
   "source": [
    "variance = optimizer(X_train, X_test, y_train, y_test)\n",
    "\n",
    "print(\"\\nUsed Variance: {}\".format(variance))\n",
    "\n",
    "pca = PCA(n_components = variance)\n",
    "X_train = pca.fit_transform(X_train)\n",
    "X_test = pca.transform(X_test)\n",
    "explained_variance = pca.explained_variance_ratio_"
   ],
   "metadata": {
    "collapsed": false,
    "pycharm": {
     "name": "#%%\n"
    }
   }
  },
  {
   "cell_type": "markdown",
   "source": [
    "### Naïve Bayes"
   ],
   "metadata": {
    "collapsed": false,
    "pycharm": {
     "name": "#%% md\n"
    }
   }
  },
  {
   "cell_type": "code",
   "execution_count": null,
   "outputs": [],
   "source": [
    "gnb = GaussianNB()\n",
    "y_pred = gnb.fit(X_train, y_train).predict(X_test)"
   ],
   "metadata": {
    "collapsed": false,
    "pycharm": {
     "name": "#%%\n"
    }
   }
  },
  {
   "cell_type": "markdown",
   "source": [
    "### Report"
   ],
   "metadata": {
    "collapsed": false,
    "pycharm": {
     "name": "#%% md\n"
    }
   }
  },
  {
   "cell_type": "code",
   "execution_count": null,
   "outputs": [],
   "source": [
    "print(accuracy_score(y_test, y_pred))\n",
    "print(classification_report(y_test, y_pred))\n",
    "\n",
    "cm_augmented = confusion_matrix(y_test, y_pred)\n",
    "cm_augmented = cm_augmented.astype('float') / cm_augmented.sum(axis=1)[:, np.newaxis]\n",
    "plt.figure(figsize=(10, 8), dpi=100)\n",
    "res_augmented = sns.heatmap(cm_augmented, annot=True, fmt='.3', cmap='GnBu')\n",
    "\n",
    "plt.ylabel('True')\n",
    "plt.xlabel('Predicted')\n",
    "plt.title('Augmented Data')\n",
    "\n",
    "for _, spine in res_augmented.spines.items():\n",
    "    spine.set_visible(True)\n",
    "    spine.set_linewidth(1)"
   ],
   "metadata": {
    "collapsed": false,
    "pycharm": {
     "name": "#%%\n"
    }
   }
  },
  {
   "cell_type": "markdown",
   "source": [
    "### Sample Misclassifcations"
   ],
   "metadata": {
    "collapsed": false,
    "pycharm": {
     "name": "#%% md\n"
    }
   }
  },
  {
   "cell_type": "code",
   "execution_count": null,
   "outputs": [],
   "source": [
    "misclassified = [i for i in range(len(y_pred)) if y_pred[i] != y_test[i]]\n",
    "img = X_test_saved.reshape(400, 16, 15, 1)\n",
    "\n",
    "indices = random.sample(misclassified, 10)\n",
    "\n",
    "fig, axs = plt.subplots(2, 4, figsize=(14, 7))\n",
    "for i in range(2):\n",
    "  for j in range(4):\n",
    "    axs[i, j].imshow(img[indices[0]], cmap='GnBu', interpolation='nearest')\n",
    "    axs[i, j].set_title(\"True: {}, Pred: {}\".format(y_test[indices[0]],y_pred[indices[0]]))\n",
    "    indices.pop(0)"
   ],
   "metadata": {
    "collapsed": false,
    "pycharm": {
     "name": "#%%\n"
    }
   }
  },
  {
   "attachments": {},
   "cell_type": "markdown",
   "metadata": {},
   "source": [
    "### Report"
   ]
  },
  {
   "cell_type": "code",
   "execution_count": 12,
   "metadata": {},
   "outputs": [
    {
     "name": "stdout",
     "output_type": "stream",
     "text": [
      "0.9425\n",
      "              precision    recall  f1-score   support\n",
      "\n",
      "           0       1.00      0.97      0.99        40\n",
      "           1       0.94      0.85      0.89        40\n",
      "           2       0.97      0.97      0.97        40\n",
      "           3       0.91      0.97      0.94        40\n",
      "           4       0.91      0.97      0.94        40\n",
      "           5       0.95      0.88      0.91        40\n",
      "           6       0.97      0.93      0.95        40\n",
      "           7       0.95      0.97      0.96        40\n",
      "           8       0.91      0.97      0.94        40\n",
      "           9       0.93      0.93      0.93        40\n",
      "\n",
      "    accuracy                           0.94       400\n",
      "   macro avg       0.94      0.94      0.94       400\n",
      "weighted avg       0.94      0.94      0.94       400\n",
      "\n"
     ]
    },
    {
     "data": {
      "image/png": "[encoded data removed]",
      "text/plain": [
       "<Figure size 1000x800 with 2 Axes>"
      ]
     },
     "metadata": {},
     "output_type": "display_data"
    }
   ],
   "source": [
    "print(accuracy_score(y_test, y_pred))\n",
    "print(classification_report(y_test, y_pred))\n",
    "\n",
    "cm_augmented = confusion_matrix(y_test, y_pred)\n",
    "cm_augmented = cm_augmented.astype('float') / cm_augmented.sum(axis=1)[:, np.newaxis]\n",
    "plt.figure(figsize=(10, 8), dpi=100)\n",
    "res_augmented = sns.heatmap(cm_augmented, annot=True, fmt='.3', cmap='GnBu')\n",
    "\n",
    "plt.ylabel('True')\n",
    "plt.xlabel('Predicted')\n",
    "plt.title('Augmented Data')\n",
    "\n",
    "for _, spine in res_augmented.spines.items():\n",
    "    spine.set_visible(True)\n",
    "    spine.set_linewidth(1)"
   ]
  },
  {
   "attachments": {},
   "cell_type": "markdown",
   "metadata": {},
   "source": [
    "### Sample Misclassifcations"
   ]
  },
  {
   "cell_type": "code",
   "execution_count": 13,
   "metadata": {},
   "outputs": [
    {
     "data": {
      "image/png": "[encoded data removed]",
      "text/plain": [
       "<Figure size 1400x700 with 8 Axes>"
      ]
     },
     "metadata": {},
     "output_type": "display_data"
    }
   ],
   "source": [
    "misclassified = [i for i in range(len(y_pred)) if y_pred[i] != y_test[i]]\n",
    "img = X_test_saved.reshape(400, 16, 15, 1)\n",
    "\n",
    "indices = random.sample(misclassified, 10)\n",
    "\n",
    "fig, axs = plt.subplots(2, 4, figsize=(14, 7))\n",
    "for i in range(2):\n",
    "  for j in range(4):\n",
    "    axs[i, j].imshow(img[indices[0]], cmap='GnBu', interpolation='nearest')\n",
    "    axs[i, j].set_title(\"True: {}, Pred: {}\".format(y_test[indices[0]],y_pred[indices[0]]))\n",
    "    indices.pop(0)"
   ]
  }
 ],
 "metadata": {
  "kernelspec": {
   "display_name": ".venv",
   "language": "python",
   "name": "python3"
  },
  "language_info": {
   "codemirror_mode": {
    "name": "ipython",
    "version": 3
   },
   "file_extension": ".py",
   "mimetype": "text/x-python",
   "name": "python",
   "nbconvert_exporter": "python",
   "pygments_lexer": "ipython3",
   "version": "3.10.9"
  },
  "orig_nbformat": 4,
  "vscode": {
   "interpreter": {
    "hash": "1b9426864a541cf231636ea246f4bcfbfc4d9a59a50f6ff6f73f69525c23ea66"
   }
  }
 },
 "nbformat": 4,
 "nbformat_minor": 2
}