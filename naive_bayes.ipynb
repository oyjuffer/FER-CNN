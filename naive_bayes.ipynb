{
 "cells": [
  {
   "attachments": {},
   "cell_type": "markdown",
   "metadata": {},
   "source": [
    "# Naive Bayes"
   ]
  },
  {
   "attachments": {},
   "cell_type": "markdown",
   "metadata": {},
   "source": [
    "## Libraries"
   ]
  },
  {
   "cell_type": "code",
   "execution_count": 1,
   "metadata": {},
   "outputs": [],
   "source": [
    "import numpy as np\n",
    "import matplotlib.pyplot as plt\n",
    "from sklearn.decomposition import PCA\n",
    "from sklearn.model_selection import train_test_split\n",
    "from sklearn.naive_bayes import GaussianNB"
   ]
  },
  {
   "attachments": {},
   "cell_type": "markdown",
   "metadata": {},
   "source": [
    "## Functions\n",
    "Runs PCA with various components and finds the best fit for the naïve bayes algorithm."
   ]
  },
  {
   "cell_type": "code",
   "execution_count": 2,
   "metadata": {},
   "outputs": [],
   "source": [
    "def optimized_NB(X_train, X_test, y_train, y_test):\n",
    "\n",
    "    misclassification = 1000\n",
    "\n",
    "    saved_X_train = X_train\n",
    "    saved_X_test = X_test\n",
    "\n",
    "    for i in range(99):\n",
    "\n",
    "        i += 2\n",
    "        temp = 0\n",
    "\n",
    "        for j in range(10):\n",
    "\n",
    "            print(\"Component: {}/100\".format(i), end=\"\\r\")\n",
    "\n",
    "            pca = PCA(n_components = i)\n",
    "            X_train = pca.fit_transform(saved_X_train)\n",
    "            X_test = pca.transform(saved_X_test)\n",
    "            explained_variance = pca.explained_variance_ratio_\n",
    "\n",
    "            gnb = GaussianNB()\n",
    "            y_pred = gnb.fit(X_train, y_train).predict(X_test)\n",
    "\n",
    "            temp += (y_test != y_pred).sum()\n",
    "\n",
    "        temp /= 10\n",
    "\n",
    "        if(temp < misclassification):\n",
    "            misclassification = temp\n",
    "            error = temp / X_test.shape[0] * 100\n",
    "            components = i\n",
    "    \n",
    "    return misclassification, error, components"
   ]
  },
  {
   "attachments": {},
   "cell_type": "markdown",
   "metadata": {},
   "source": [
    "## Normal Data"
   ]
  },
  {
   "attachments": {},
   "cell_type": "markdown",
   "metadata": {},
   "source": [
    "### Load Data"
   ]
  },
  {
   "cell_type": "code",
   "execution_count": 3,
   "metadata": {},
   "outputs": [],
   "source": [
    "# Load lines from mfeat-pix.txt\n",
    "features = open('mfeat-pix.txt').readlines()\n",
    "\n",
    "# Create labels for each line, 0-9 for each 200 lines\n",
    "labels = []\n",
    "for i in range(10):\n",
    "  for j in range(200):\n",
    "    labels.append(i)\n",
    "labels = np.array(labels)\n",
    "\n",
    "# Convert each line to a numpy array\n",
    "for i in range(len(features)):\n",
    "  features[i] = np.array(features[i].split()).astype('float')\n",
    "  # Normalize\n",
    "  features[i] = features[i] / 6\n",
    "features = np.array(features)"
   ]
  },
  {
   "attachments": {},
   "cell_type": "markdown",
   "metadata": {},
   "source": [
    "### Split"
   ]
  },
  {
   "cell_type": "code",
   "execution_count": 4,
   "metadata": {},
   "outputs": [],
   "source": [
    "X_train, X_test, y_train, y_test = train_test_split(features, labels, test_size=0.2, random_state=40)"
   ]
  },
  {
   "attachments": {},
   "cell_type": "markdown",
   "metadata": {},
   "source": [
    "### PCA & NB"
   ]
  },
  {
   "cell_type": "code",
   "execution_count": 5,
   "metadata": {},
   "outputs": [
    {
     "name": "stdout",
     "output_type": "stream",
     "text": [
      "Average number of mislabeled points out of a total 400 points: 21.80\n",
      "Average error precentage: 5.45%\n",
      "Having used 31 components.\n",
      "\n"
     ]
    }
   ],
   "source": [
    "misclassification, error, components  = optimized_NB(X_train, X_test, y_train, y_test)\n",
    "print(\"Average number of mislabeled points out of a total %d points: %.2f\" % (X_test.shape[0], misclassification))\n",
    "print(\"Average error precentage: %.2f%%\" % (error))\n",
    "print(\"Having used {} components.\\n\".format(components))"
   ]
  },
  {
   "attachments": {},
   "cell_type": "markdown",
   "metadata": {},
   "source": [
    "## Augmented Data"
   ]
  },
  {
   "attachments": {},
   "cell_type": "markdown",
   "metadata": {},
   "source": [
    "### Load Data"
   ]
  },
  {
   "cell_type": "code",
   "execution_count": 6,
   "metadata": {},
   "outputs": [],
   "source": [
    "X_train =  np.load(\"X_train_augmented.npy\")\n",
    "X_test = np.load(\"X_test_augmented.npy\")\n",
    "y_train = np.load(\"y_train_augmented.npy\")\n",
    "y_test = np.load(\"y_test_augmented.npy\")\n",
    "\n",
    "X_train = X_train.reshape((X_train.shape[0], 240))"
   ]
  },
  {
   "attachments": {},
   "cell_type": "markdown",
   "metadata": {},
   "source": [
    "### PCA & NB"
   ]
  },
  {
   "cell_type": "code",
   "execution_count": 7,
   "metadata": {},
   "outputs": [
    {
     "name": "stdout",
     "output_type": "stream",
     "text": [
      "Average number of mislabeled points out of a total 400 points: 22.60\n",
      "Average error precentage: 5.65%\n",
      "Having used 55 components.\n",
      "\n"
     ]
    }
   ],
   "source": [
    "misclassification, error, components  = optimized_NB(X_train, X_test, y_train, y_test)\n",
    "print(\"Average number of mislabeled points out of a total %d points: %.2f\" % (X_test.shape[0], misclassification))\n",
    "print(\"Average error precentage: %.2f%%\" % (error))\n",
    "print(\"Having used {} components.\\n\".format(components))"
   ]
  }
 ],
 "metadata": {
  "kernelspec": {
   "display_name": ".venv",
   "language": "python",
   "name": "python3"
  },
  "language_info": {
   "codemirror_mode": {
    "name": "ipython",
    "version": 3
   },
   "file_extension": ".py",
   "mimetype": "text/x-python",
   "name": "python",
   "nbconvert_exporter": "python",
   "pygments_lexer": "ipython3",
   "version": "3.10.9"
  },
  "orig_nbformat": 4,
  "vscode": {
   "interpreter": {
    "hash": "1b9426864a541cf231636ea246f4bcfbfc4d9a59a50f6ff6f73f69525c23ea66"
   }
  }
 },
 "nbformat": 4,
 "nbformat_minor": 2
}
