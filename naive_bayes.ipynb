{
 "cells": [
  {
   "attachments": {},
   "cell_type": "markdown",
   "metadata": {},
   "source": [
    "# Naive Bayes"
   ]
  },
  {
   "attachments": {},
   "cell_type": "markdown",
   "metadata": {},
   "source": [
    "## Libraries"
   ]
  },
  {
   "cell_type": "code",
   "execution_count": 406,
   "metadata": {},
   "outputs": [],
   "source": [
    "import numpy as np\n",
    "import matplotlib.pyplot as plt\n",
    "from sklearn.decomposition import PCA\n",
    "from sklearn.model_selection import train_test_split\n",
    "from sklearn.naive_bayes import GaussianNB"
   ]
  },
  {
   "attachments": {},
   "cell_type": "markdown",
   "metadata": {},
   "source": [
    "## Functions"
   ]
  },
  {
   "cell_type": "code",
   "execution_count": 407,
   "metadata": {},
   "outputs": [],
   "source": [
    "def find_components(X_train, X_test, y_train, y_test):\n",
    "\n",
    "    misclassification = 1000\n",
    "\n",
    "    saved_X_train = X_train\n",
    "    saved_X_test = X_test\n",
    "\n",
    "    for i in range(49):\n",
    "\n",
    "        i += 2\n",
    "        temp = 0\n",
    "\n",
    "        for j in range(10):\n",
    "\n",
    "            print(\"Component: {}/50\".format(i), end=\"\\r\")\n",
    "\n",
    "            pca = PCA(n_components = i)\n",
    "            X_train = pca.fit_transform(saved_X_train)\n",
    "            X_test = pca.transform(saved_X_test)\n",
    "            explained_variance = pca.explained_variance_ratio_\n",
    "\n",
    "            gnb = GaussianNB()\n",
    "            y_pred = gnb.fit(X_train, y_train).predict(X_test)\n",
    "\n",
    "            temp += (y_test != y_pred).sum()\n",
    "\n",
    "        temp /= 10\n",
    "\n",
    "        if(temp < misclassification):\n",
    "            misclassification = temp\n",
    "            components = i\n",
    "    \n",
    "    return components "
   ]
  },
  {
   "attachments": {},
   "cell_type": "markdown",
   "metadata": {},
   "source": [
    "## Normal Data"
   ]
  },
  {
   "attachments": {},
   "cell_type": "markdown",
   "metadata": {},
   "source": [
    "### Load Data"
   ]
  },
  {
   "cell_type": "code",
   "execution_count": 408,
   "metadata": {},
   "outputs": [],
   "source": [
    "# Load lines from mfeat-pix.txt\n",
    "features = open('mfeat-pix.txt').readlines()\n",
    "\n",
    "# Create labels for each line, 0-9 for each 200 lines\n",
    "labels = []\n",
    "for i in range(10):\n",
    "  for j in range(200):\n",
    "    labels.append(i)\n",
    "labels = np.array(labels)\n",
    "\n",
    "# Convert each line to a numpy array\n",
    "for i in range(len(features)):\n",
    "  features[i] = np.array(features[i].split()).astype('float')\n",
    "  # Normalize\n",
    "  features[i] = features[i] / 6\n",
    "features = np.array(features)"
   ]
  },
  {
   "attachments": {},
   "cell_type": "markdown",
   "metadata": {},
   "source": [
    "### Split"
   ]
  },
  {
   "cell_type": "code",
   "execution_count": 409,
   "metadata": {},
   "outputs": [],
   "source": [
    "X_train, X_test, y_train, y_test = train_test_split(features, labels, test_size=0.2, random_state=40)"
   ]
  },
  {
   "attachments": {},
   "cell_type": "markdown",
   "metadata": {},
   "source": [
    "### PCA"
   ]
  },
  {
   "cell_type": "code",
   "execution_count": 410,
   "metadata": {},
   "outputs": [
    {
     "name": "stdout",
     "output_type": "stream",
     "text": [
      "Component: 50/50\n",
      "Using 40 components.\n",
      "\n"
     ]
    }
   ],
   "source": [
    "n = find_components(X_train, X_test, y_train, y_test)\n",
    "print(\"\\nUsing {} components.\\n\".format(n))\n",
    "\n",
    "pca = PCA(n_components=n)\n",
    "X_train = pca.fit_transform(X_train)\n",
    "X_test = pca.transform(X_test)\n",
    "explained_variance = pca.explained_variance_ratio_"
   ]
  },
  {
   "attachments": {},
   "cell_type": "markdown",
   "metadata": {},
   "source": [
    "### Model"
   ]
  },
  {
   "cell_type": "code",
   "execution_count": 411,
   "metadata": {},
   "outputs": [
    {
     "name": "stdout",
     "output_type": "stream",
     "text": [
      "Number of mislabeled points out of a total 400 points: 22\n",
      "Error precentage: 5.50%\n"
     ]
    }
   ],
   "source": [
    "gnb = GaussianNB()\n",
    "y_pred = gnb.fit(X_train, y_train).predict(X_test)\n",
    "\n",
    "print(\"Number of mislabeled points out of a total %d points: %d\" % (X_test.shape[0], (y_test != y_pred).sum()))\n",
    "print(\"Error precentage: %.2f%%\" % ((y_test != y_pred).sum() / X_test.shape[0] * 100))"
   ]
  },
  {
   "attachments": {},
   "cell_type": "markdown",
   "metadata": {},
   "source": [
    "## Augmented Data"
   ]
  },
  {
   "attachments": {},
   "cell_type": "markdown",
   "metadata": {},
   "source": [
    "### Load Data"
   ]
  },
  {
   "cell_type": "code",
   "execution_count": 412,
   "metadata": {},
   "outputs": [],
   "source": [
    "X_train =  np.load(\"X_train_augmented.npy\")\n",
    "X_test = np.load(\"X_test_augmented.npy\")\n",
    "y_train = np.load(\"y_train_augmented.npy\")\n",
    "y_test = np.load(\"y_test_augmented.npy\")\n",
    "\n",
    "X_train = X_train.reshape((X_train.shape[0], 240))"
   ]
  },
  {
   "attachments": {},
   "cell_type": "markdown",
   "metadata": {},
   "source": [
    "### PCA"
   ]
  },
  {
   "cell_type": "code",
   "execution_count": 413,
   "metadata": {},
   "outputs": [
    {
     "name": "stdout",
     "output_type": "stream",
     "text": [
      "Component: 50/50\n",
      "Using 25 components.\n",
      "\n"
     ]
    }
   ],
   "source": [
    "n = find_components(X_train, X_test, y_train, y_test)\n",
    "print(\"\\nUsing {} components.\\n\".format(n))\n",
    "\n",
    "pca = PCA(n_components=n)\n",
    "X_train = pca.fit_transform(X_train)\n",
    "X_test = pca.transform(X_test)\n",
    "explained_variance = pca.explained_variance_ratio_"
   ]
  },
  {
   "attachments": {},
   "cell_type": "markdown",
   "metadata": {},
   "source": [
    "### Model"
   ]
  },
  {
   "cell_type": "code",
   "execution_count": 414,
   "metadata": {},
   "outputs": [
    {
     "name": "stdout",
     "output_type": "stream",
     "text": [
      "Number of mislabeled points out of a total 400 points: 23\n",
      "Error precentage: 5.75%\n"
     ]
    }
   ],
   "source": [
    "gnb = GaussianNB()\n",
    "y_pred = gnb.fit(X_train, y_train).predict(X_test)\n",
    "\n",
    "print(\"Number of mislabeled points out of a total %d points: %d\" % (X_test.shape[0], (y_test != y_pred).sum()))\n",
    "print(\"Error precentage: %.2f%%\" % (float((y_test != y_pred).sum() / X_test.shape[0] * 100)))"
   ]
  }
 ],
 "metadata": {
  "kernelspec": {
   "display_name": ".venv",
   "language": "python",
   "name": "python3"
  },
  "language_info": {
   "codemirror_mode": {
    "name": "ipython",
    "version": 3
   },
   "file_extension": ".py",
   "mimetype": "text/x-python",
   "name": "python",
   "nbconvert_exporter": "python",
   "pygments_lexer": "ipython3",
   "version": "3.10.9"
  },
  "orig_nbformat": 4,
  "vscode": {
   "interpreter": {
    "hash": "1b9426864a541cf231636ea246f4bcfbfc4d9a59a50f6ff6f73f69525c23ea66"
   }
  }
 },
 "nbformat": 4,
 "nbformat_minor": 2
}
