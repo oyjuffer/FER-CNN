{
 "cells": [
  {
   "attachments": {},
   "cell_type": "markdown",
   "metadata": {},
   "source": [
    "# Naive Bayes"
   ]
  },
  {
   "attachments": {},
   "cell_type": "markdown",
   "metadata": {},
   "source": [
    "## Libraries"
   ]
  },
  {
   "cell_type": "code",
   "execution_count": 1,
   "metadata": {},
   "outputs": [],
   "source": [
    "import numpy as np\n",
    "import matplotlib.pyplot as plt\n",
    "from sklearn.decomposition import PCA\n",
    "from sklearn.model_selection import train_test_split\n",
    "from sklearn.naive_bayes import GaussianNB\n",
    "from sklearn.metrics import accuracy_score\n",
    "from sklearn.metrics import classification_report\n",
    "from sklearn.metrics import ConfusionMatrixDisplay"
   ]
  },
  {
   "attachments": {},
   "cell_type": "markdown",
   "metadata": {},
   "source": [
    "## PCA Optimizer"
   ]
  },
  {
   "cell_type": "code",
   "execution_count": 2,
   "metadata": {},
   "outputs": [],
   "source": [
    "def optimizer(X_train, X_test, y_train, y_test):\n",
    "    best_accuracy = 0\n",
    "\n",
    "    saved_X_train = X_train\n",
    "    saved_X_test= X_test\n",
    "\n",
    "    for i in range(99):\n",
    "        \n",
    "        i = (i+1)/100\n",
    "        print(\"Variance: {}/1\".format(i), end=\"\\r\")\n",
    "\n",
    "        pca = PCA(n_components = i)\n",
    "        X_train = pca.fit_transform(saved_X_train)\n",
    "        X_test = pca.transform(saved_X_test)\n",
    "        explained_variance = pca.explained_variance_ratio_\n",
    "\n",
    "        gnb = GaussianNB()\n",
    "        y_pred = gnb.fit(X_train, y_train).predict(X_test)\n",
    "\n",
    "        accuracy = accuracy_score(y_test, y_pred)\n",
    "\n",
    "        if(accuracy > best_accuracy):\n",
    "            best_accuracy = accuracy\n",
    "            variance = i\n",
    "\n",
    "    return variance"
   ]
  },
  {
   "attachments": {},
   "cell_type": "markdown",
   "metadata": {},
   "source": [
    "## Normal Data"
   ]
  },
  {
   "attachments": {},
   "cell_type": "markdown",
   "metadata": {},
   "source": [
    "### Load Data"
   ]
  },
  {
   "cell_type": "code",
   "execution_count": 3,
   "metadata": {},
   "outputs": [],
   "source": [
    "# Load lines from mfeat-pix.txt\n",
    "features = open('mfeat-pix.txt').readlines()\n",
    "\n",
    "# Create labels for each line, 0-9 for each 200 lines\n",
    "labels = []\n",
    "for i in range(10):\n",
    "  for j in range(200):\n",
    "    labels.append(i)\n",
    "labels = np.array(labels)\n",
    "\n",
    "# Convert each line to a numpy array\n",
    "for i in range(len(features)):\n",
    "  features[i] = np.array(features[i].split()).astype('float')\n",
    "  # Normalize\n",
    "  features[i] = features[i] / 6\n",
    "features = np.array(features)"
   ]
  },
  {
   "attachments": {},
   "cell_type": "markdown",
   "metadata": {},
   "source": [
    "### Split"
   ]
  },
  {
   "cell_type": "code",
   "execution_count": 4,
   "metadata": {},
   "outputs": [],
   "source": [
    "X_train, X_test, y_train, y_test = train_test_split(features, labels, test_size=0.2, random_state=40, stratify=labels)"
   ]
  },
  {
   "attachments": {},
   "cell_type": "markdown",
   "metadata": {},
   "source": [
    "### PCA"
   ]
  },
  {
   "cell_type": "code",
   "execution_count": 5,
   "metadata": {},
   "outputs": [
    {
     "name": "stdout",
     "output_type": "stream",
     "text": [
      "Variance: 0.99/1\r"
     ]
    }
   ],
   "source": [
    "variance = optimizer(X_train, X_test, y_train, y_test)\n",
    "\n",
    "pca = PCA(n_components = variance)\n",
    "X_train = pca.fit_transform(X_train)\n",
    "X_test = pca.transform(X_test)\n",
    "explained_variance = pca.explained_variance_ratio_\n"
   ]
  },
  {
   "attachments": {},
   "cell_type": "markdown",
   "metadata": {},
   "source": [
    "### Naïve Bayes"
   ]
  },
  {
   "cell_type": "code",
   "execution_count": 6,
   "metadata": {},
   "outputs": [],
   "source": [
    "gnb = GaussianNB()\n",
    "y_pred = gnb.fit(X_train, y_train).predict(X_test)"
   ]
  },
  {
   "attachments": {},
   "cell_type": "markdown",
   "metadata": {},
   "source": [
    "### Report"
   ]
  },
  {
   "cell_type": "code",
   "execution_count": 7,
   "metadata": {},
   "outputs": [
    {
     "name": "stdout",
     "output_type": "stream",
     "text": [
      "0.945\n",
      "              precision    recall  f1-score   support\n",
      "\n",
      "           0       1.00      0.95      0.97        40\n",
      "           1       0.87      0.97      0.92        40\n",
      "           2       1.00      0.95      0.97        40\n",
      "           3       0.90      0.93      0.91        40\n",
      "           4       1.00      0.97      0.99        40\n",
      "           5       0.95      0.88      0.91        40\n",
      "           6       1.00      0.95      0.97        40\n",
      "           7       1.00      0.85      0.92        40\n",
      "           8       0.93      1.00      0.96        40\n",
      "           9       0.85      1.00      0.92        40\n",
      "\n",
      "    accuracy                           0.94       400\n",
      "   macro avg       0.95      0.94      0.95       400\n",
      "weighted avg       0.95      0.94      0.95       400\n",
      "\n"
     ]
    },
    {
     "data": {
      "text/plain": [
       "<sklearn.metrics._plot.confusion_matrix.ConfusionMatrixDisplay at 0x20ccfa70d60>"
      ]
     },
     "execution_count": 7,
     "metadata": {},
     "output_type": "execute_result"
    },
    {
     "data": {
      "image/png": "[encoded data removed]",
      "text/plain": [
       "<Figure size 640x480 with 2 Axes>"
      ]
     },
     "metadata": {},
     "output_type": "display_data"
    }
   ],
   "source": [
    "print(accuracy_score(y_test, y_pred))\n",
    "print(classification_report(y_test, y_pred))\n",
    "\n",
    "ConfusionMatrixDisplay.from_predictions(y_test, y_pred, labels=gnb.classes_)"
   ]
  },
  {
   "attachments": {},
   "cell_type": "markdown",
   "metadata": {},
   "source": [
    "## Augmented Data"
   ]
  },
  {
   "attachments": {},
   "cell_type": "markdown",
   "metadata": {},
   "source": [
    "### Load Data"
   ]
  },
  {
   "cell_type": "code",
   "execution_count": 8,
   "metadata": {},
   "outputs": [],
   "source": [
    "X_train =  np.load(\"X_train_augmented.npy\")\n",
    "X_test = np.load(\"X_test_augmented.npy\")\n",
    "y_train = np.load(\"y_train_augmented.npy\")\n",
    "y_test = np.load(\"y_test_augmented.npy\")\n",
    "\n",
    "X_train = X_train.reshape((X_train.shape[0], 240))"
   ]
  },
  {
   "attachments": {},
   "cell_type": "markdown",
   "metadata": {},
   "source": [
    "### PCA"
   ]
  },
  {
   "cell_type": "code",
   "execution_count": 9,
   "metadata": {},
   "outputs": [
    {
     "name": "stdout",
     "output_type": "stream",
     "text": [
      "Variance: 0.99/1\r"
     ]
    }
   ],
   "source": [
    "variance = optimizer(X_train, X_test, y_train, y_test)\n",
    "\n",
    "pca = PCA(n_components = variance)\n",
    "X_train = pca.fit_transform(X_train)\n",
    "X_test = pca.transform(X_test)\n",
    "explained_variance = pca.explained_variance_ratio_"
   ]
  },
  {
   "attachments": {},
   "cell_type": "markdown",
   "metadata": {},
   "source": [
    "### Naïve Bayes"
   ]
  },
  {
   "cell_type": "code",
   "execution_count": 10,
   "metadata": {},
   "outputs": [],
   "source": [
    "gnb = GaussianNB()\n",
    "y_pred = gnb.fit(X_train, y_train).predict(X_test)"
   ]
  },
  {
   "attachments": {},
   "cell_type": "markdown",
   "metadata": {},
   "source": [
    "### Report"
   ]
  },
  {
   "cell_type": "code",
   "execution_count": 11,
   "metadata": {},
   "outputs": [
    {
     "name": "stdout",
     "output_type": "stream",
     "text": [
      "0.9425\n",
      "              precision    recall  f1-score   support\n",
      "\n",
      "           0       1.00      0.97      0.99        40\n",
      "           1       0.94      0.85      0.89        40\n",
      "           2       0.97      0.97      0.97        40\n",
      "           3       0.91      0.97      0.94        40\n",
      "           4       0.91      0.97      0.94        40\n",
      "           5       0.95      0.88      0.91        40\n",
      "           6       0.97      0.93      0.95        40\n",
      "           7       0.95      0.97      0.96        40\n",
      "           8       0.91      0.97      0.94        40\n",
      "           9       0.93      0.93      0.93        40\n",
      "\n",
      "    accuracy                           0.94       400\n",
      "   macro avg       0.94      0.94      0.94       400\n",
      "weighted avg       0.94      0.94      0.94       400\n",
      "\n"
     ]
    },
    {
     "data": {
      "text/plain": [
       "<sklearn.metrics._plot.confusion_matrix.ConfusionMatrixDisplay at 0x20d002ab340>"
      ]
     },
     "execution_count": 11,
     "metadata": {},
     "output_type": "execute_result"
    },
    {
     "data": {
      "image/png": "[encoded data removed]",
      "text/plain": [
       "<Figure size 640x480 with 2 Axes>"
      ]
     },
     "metadata": {},
     "output_type": "display_data"
    }
   ],
   "source": [
    "print(accuracy_score(y_test, y_pred))\n",
    "print(classification_report(y_test, y_pred))\n",
    "\n",
    "ConfusionMatrixDisplay.from_predictions(y_test, y_pred, labels=gnb.classes_)"
   ]
  }
 ],
 "metadata": {
  "kernelspec": {
   "display_name": ".venv",
   "language": "python",
   "name": "python3"
  },
  "language_info": {
   "codemirror_mode": {
    "name": "ipython",
    "version": 3
   },
   "file_extension": ".py",
   "mimetype": "text/x-python",
   "name": "python",
   "nbconvert_exporter": "python",
   "pygments_lexer": "ipython3",
   "version": "3.10.9"
  },
  "orig_nbformat": 4,
  "vscode": {
   "interpreter": {
    "hash": "1b9426864a541cf231636ea246f4bcfbfc4d9a59a50f6ff6f73f69525c23ea66"
   }
  }
 },
 "nbformat": 4,
 "nbformat_minor": 2
}
